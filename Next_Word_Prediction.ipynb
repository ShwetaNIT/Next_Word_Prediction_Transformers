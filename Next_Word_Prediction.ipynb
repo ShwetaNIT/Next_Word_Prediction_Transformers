{
  "nbformat": 4,
  "nbformat_minor": 0,
  "metadata": {
    "colab": {
      "provenance": [],
      "machine_shape": "hm"
    },
    "kernelspec": {
      "name": "python3",
      "display_name": "Python 3"
    },
    "language_info": {
      "name": "python"
    },
    "accelerator": "GPU",
    "gpuClass": "standard"
  },
  "cells": [
    {
      "cell_type": "markdown",
      "source": [
        "#**Deep Learning Project-3**"
      ],
      "metadata": {
        "id": "jTX_JLTaZLaW"
      }
    },
    {
      "cell_type": "markdown",
      "source": [
        "Name: Shweta Sharma\n",
        "UIN: 433003780"
      ],
      "metadata": {
        "id": "1VslSvDXZUM7"
      }
    },
    {
      "cell_type": "markdown",
      "source": [
        "Project Three. Due: 11:59pm (Central Time) on Friday 4/28/2023. (Submit all your code with detailed/clear explanations in a single Jupyter notebook file in Canvas. And email your trained model AS WELL AS its output for the \"testing dataset\" to csce636projects2023@gmail.com with your name and UIN . 120 points)\n",
        "\n",
        "This project is on language modeling for an artificial language. We want to build a model such that given a \"partial text\" in the artificial language, the model can predict the next word.\n",
        "\n",
        "As a training dataset, a list of 5,000 texts in the artificial language are here.  (After downloading it, you can use pickle.load(open(path,'rb')) to open it. It is a list of 5,000 strings in Python. For example, a string may be 'a j a d a d c g b f a i c f b e a e a h b e a d c d c d c d b d c f '.)\n",
        "\n",
        "From the above 5,000 strings, we have obtained 5,000 \"partial texts\" and the corresponding \"next word\". Each \"partial text\" consists of the first k words of the corresponding string (for some random integer k), and the corresponding \"next word\" is the (k+1)-th word in that string. For example, for the string 'a j a d a d c g b f a i c f b e a e a h b e a d c d c d c d b d c f ', the \"partial text\" may be ['a', 'j', 'a', 'd', 'a', 'd', 'c', 'g', 'b', 'f', 'a', 'i', 'c', 'f', 'b', 'e', 'a'], which is a list of the first k=17 words in the string, and the \"next word\" is 'e', which is the 18-th word in the string.\n",
        "\n",
        "Your task is to design and train a good model, which takes \"partial texts\" as input, and predicts the \"next word\" for each \"partial text\".\n",
        "\n",
        "Your trained model will be evaluated using a \"testing dataset\" (shown below). The testing dataset also consists of a list of \"partial texts\" (as the model's input) and a list of \"next word\" (to be compared to your model's output). In the list of \"partial texts\", each \"partial text\" is a list of words instead of a single string, just like the \"partial texts\" above that we have for the training set. The performance of your model will be measured by its \"accuracy for words\", defined as the fraction of \"next words\" that your model  correctly predicts.\n",
        "\n",
        "You should submit THREE things:\n",
        "\n",
        "1) Place all your code in a single Jupyter notebook, and submit it in Canvas. You should accompany your code with clear/detailed explanations, so that we can understand the methods you used.\n",
        "\n",
        "2) Email your trained model to csce636projects2023@gmail.com . (Please make sure to include your name and UIN in the email.) We need to be able to test your model very easily in Google CoLab by running a simple line of code on our testing dataset. And you need to specify in your Jupyter notebook what that single line of code is.\n",
        "\n",
        "3) As the \"testing dataset\" for this project, a list of 5,000 \"partial texts\" are here. Please run your trained model on it to get the 5,000  corresponding \"next word\" (as a list of 5,000 strings in Python), and submit the list by emailing it to csce636projects2023@gmail.com . (You can use pickle.dump(yourList, open(path,'wb')) to save your list in a file, and then attach it to the email.) Please note that we will use your model to verify the above submitted texts, but we will use our own code to compute the accuracy of your model on the testing dataset.     \n",
        "\n",
        "Method of grading: your grade for this project will be equal to:\n",
        "\n",
        "(test_accuracy_for_words +  0.2) x 100\n",
        "\n",
        "For example, if your test accuracy is 0.65, then the grade is 85; and if your test accuracy is 0.9, then the grade is 110. However, if the code in your Jupyter notebook is incomplete, the grade will be 0; if the explanations in the Jupyter notebook are not clear, then 5 points will be taken away; and if we need to make any (even simple) modification to your code in order to run it for testing (instead of simply running a single line of code following your instruction), then some points will be taken away (depending on how serious the modification needs to be)."
      ],
      "metadata": {
        "id": "-WwEjpXHZRMr"
      }
    },
    {
      "cell_type": "markdown",
      "source": [
        "**Ans:**\n"
      ],
      "metadata": {
        "id": "66chTXgHacqY"
      }
    },
    {
      "cell_type": "markdown",
      "source": [
        "The code is loading a dataset for training a model. The dataset consists of three variables, train_input, train_input_prefix, and train_input_next. These variables are loaded using pickle.load() from three different files with paths '/content/DS_5_train_input (1)', '/content/DS_5_train_input_prefixList', and '/content/DS_5_train_input_nextWord', respectively.\n",
        "\n",
        "The train_input variable likely contains the input sequences for the model, train_input_prefix contains the prefixes of the input sequences, and train_input_next contains the next word in the input sequence after each prefix.\n",
        "\n",
        "The code is using the NumPy library, which provides support for large multi-dimensional arrays and matrices, and the Keras library from TensorFlow, which is a popular deep learning framework for building and training neural networks."
      ],
      "metadata": {
        "id": "kvUIFUbQasw8"
      }
    },
    {
      "cell_type": "code",
      "execution_count": null,
      "metadata": {
        "id": "1Lz9tJkc1to8"
      },
      "outputs": [],
      "source": [
        "import numpy as np\n",
        "import pickle\n",
        "\n",
        "from tensorflow.keras.preprocessing.sequence import pad_sequences\n",
        "from tensorflow.keras.models import Sequential\n",
        "from tensorflow.keras.layers import LSTM, Dense, Dropout, Embedding\n",
        "\n",
        "# Load the dataset\n",
        "# Load the training data\n",
        "train_input = pickle.load(open('/content/DS_5_train_input (1)', 'rb'))\n",
        "train_input_prefix = pickle.load(open('/content/DS_5_train_input_prefixList', 'rb'))\n",
        "train_input_next = pickle.load(open('/content/DS_5_train_input_nextWord', 'rb'))\n"
      ]
    },
    {
      "cell_type": "code",
      "source": [
        "train_input[0]"
      ],
      "metadata": {
        "id": "b0Gw00vV88n5",
        "colab": {
          "base_uri": "https://localhost:8080/",
          "height": 35
        },
        "outputId": "f13602bf-e710-491b-f7f5-0fb26560dc22"
      },
      "execution_count": null,
      "outputs": [
        {
          "output_type": "execute_result",
          "data": {
            "text/plain": [
              "'a g b f a f a e a k a j c f b f c d a k a k c e b g a h a k b d b f b f b d c d '"
            ],
            "application/vnd.google.colaboratory.intrinsic+json": {
              "type": "string"
            }
          },
          "metadata": {},
          "execution_count": 6
        }
      ]
    },
    {
      "cell_type": "code",
      "source": [
        "vocab = set()\n",
        "l=0\n",
        "\n",
        "for line in train_input:\n",
        "  if len(line.split()) > l:\n",
        "    l=len(line.split())\n",
        "  for i in line:\n",
        "    vocab.add(i)\n",
        "\n",
        "print(vocab)\n",
        "print(l)"
      ],
      "metadata": {
        "colab": {
          "base_uri": "https://localhost:8080/"
        },
        "id": "h4CqnQFhS_z9",
        "outputId": "bfd789ed-5797-4e09-a5a9-a82106e1f9b9"
      },
      "execution_count": null,
      "outputs": [
        {
          "output_type": "stream",
          "name": "stdout",
          "text": [
            "{'f', 'h', ' ', 'k', 'd', 'b', 'j', 'i', 'g', 'a', 'c', 'e'}\n",
            "64\n"
          ]
        }
      ]
    },
    {
      "cell_type": "code",
      "source": [
        "import tensorflow as tf\n",
        "\n",
        "\n",
        "dataset = tf.data.Dataset.from_tensor_slices(train_input)\n",
        "\n",
        "batch_size = 32\n",
        "batched_dataset = dataset.batch(batch_size)"
      ],
      "metadata": {
        "id": "QB-NjH8SQ3TJ"
      },
      "execution_count": null,
      "outputs": []
    },
    {
      "cell_type": "markdown",
      "source": [
        "The code is using the TextVectorization layer from Keras to vectorize the text data. The TextVectorization layer is a convenient tool for preprocessing text data in a way that can be used as input to a neural network.\n",
        "\n",
        "The max_tokens parameter specifies the maximum vocabulary size. In this case, the vocabulary size is 12, which means that the TextVectorization layer will only consider the 12 most frequent words in the text data.\n",
        "\n",
        "The output_mode parameter is set to \"int\", which means that the layer will output integer indices representing each word in the vocabulary.\n",
        "\n",
        "The output_sequence_length parameter is set to 150, which means that the vectorized sequences will be padded or truncated to a length of 150.\n",
        "\n",
        "The adapt() method is called on the text_vectorization object to fit the layer to the text data. The adapt() method will analyze the text data and build the vocabulary for the TextVectorization layer based on the specified max_tokens parameter. The batched_dataset variable likely contains the training data in a format that can be processed by the TextVectorization layer."
      ],
      "metadata": {
        "id": "ahqzutRAa9wy"
      }
    },
    {
      "cell_type": "code",
      "source": [
        "# Preparing a TextVectorization layer\n",
        "\n",
        "from tensorflow.keras.layers import TextVectorization\n",
        "\n",
        "sequence_length = 150\n",
        "vocab_size = 12\n",
        "text_vectorization = TextVectorization(\n",
        "    max_tokens=vocab_size,\n",
        "    output_mode=\"int\",\n",
        "    output_sequence_length=sequence_length,\n",
        ")\n",
        "text_vectorization.adapt(batched_dataset)"
      ],
      "metadata": {
        "id": "en0i56cUFO8a"
      },
      "execution_count": null,
      "outputs": []
    },
    {
      "cell_type": "markdown",
      "source": [
        "The code is defining a function called prepare_lm_dataset() that takes a batch of text data as input and returns two variables x and y.\n",
        "\n",
        "The text_vectorization layer defined earlier is used to vectorize the input text data in the text_batch variable. The resulting vectorized_sequences variable contains the vectorized sequences with integer indices representing each word in the vocabulary.\n",
        "\n",
        "The x variable is defined as all but the last element of each sequence in the vectorized_sequences. This is because the language model will be trained to predict the next word in a sequence based on the previous words in the sequence.\n",
        "\n",
        "The y variable is defined as all but the first element of each sequence in the vectorized_sequences. This is because the model will be trained to predict the next word in the sequence based on the input sequence, which excludes the first word.\n",
        "\n",
        "The lm_dataset variable is defined as a mapped version of the batched_dataset variable, with each element being transformed by the prepare_lm_dataset() function. This will create a new dataset object that can be used to train a language model. The num_parallel_calls parameter indicates that the function should be applied to multiple elements in parallel."
      ],
      "metadata": {
        "id": "uim6Ko_0bI_E"
      }
    },
    {
      "cell_type": "code",
      "source": [
        "#Setting up a language modeling dataset\n",
        "\n",
        "def prepare_lm_dataset(text_batch):\n",
        "    vectorized_sequences = text_vectorization(text_batch)\n",
        "    x = vectorized_sequences[:, :-1]\n",
        "    y = vectorized_sequences[:, 1:]\n",
        "    return x, y\n",
        "\n",
        "lm_dataset = batched_dataset.map(prepare_lm_dataset, num_parallel_calls=4)"
      ],
      "metadata": {
        "id": "4YRs4_7rGj9W"
      },
      "execution_count": null,
      "outputs": []
    },
    {
      "cell_type": "markdown",
      "source": [
        "The code is splitting the language modeling dataset into training and validation sets.\n",
        "\n",
        "The val_size variable is defined to represent the fraction of the dataset that should be used for validation. In this case, val_size is set to 0.15, which means that 15% of the dataset will be used for validation.\n",
        "\n",
        "The val_steps variable is calculated as the number of elements in the validation set. It is computed by multiplying the total number of elements in the dataset by the validation fraction and then converting it to an integer using the int() function.\n",
        "\n",
        "The train_steps variable is calculated as the number of elements in the training set. It is computed by subtracting the number of elements in the validation set from the total number of elements in the dataset.\n",
        "\n",
        "The val_dataset variable is defined as the first val_steps elements of the lm_dataset. The take() method is used to create a new dataset that contains the specified number of elements from the beginning of the lm_dataset.\n",
        "\n",
        "The train_dataset variable is defined as the remaining elements of the lm_dataset after the val_dataset has been removed. The skip() method is used to create a new dataset that skips the specified number of elements from the beginning of the lm_dataset."
      ],
      "metadata": {
        "id": "EaWbZp6wbXAo"
      }
    },
    {
      "cell_type": "code",
      "source": [
        "#dividing dataset into training and validation\n",
        "# Define the size of the validation set as a fraction of the total dataset\n",
        "val_size = 0.15\n",
        "\n",
        "# Calculate the number of elements in the validation set\n",
        "val_steps = int(val_size * lm_dataset.cardinality().numpy())\n",
        "\n",
        "# Calculate the number of elements in the training set\n",
        "train_steps = lm_dataset.cardinality().numpy() - val_steps\n",
        "\n",
        "# Split the dataset into training and validation\n",
        "val_dataset = lm_dataset.take(val_steps)\n",
        "train_dataset = lm_dataset.skip(val_steps)\n"
      ],
      "metadata": {
        "id": "tDQSlS3bo63P"
      },
      "execution_count": null,
      "outputs": []
    },
    {
      "cell_type": "code",
      "source": [
        "train_dataset"
      ],
      "metadata": {
        "colab": {
          "base_uri": "https://localhost:8080/"
        },
        "id": "TmuaxnjhqEjF",
        "outputId": "659b5b39-7abc-4608-d975-a54d9de41531"
      },
      "execution_count": null,
      "outputs": [
        {
          "output_type": "execute_result",
          "data": {
            "text/plain": [
              "<_SkipDataset element_spec=(TensorSpec(shape=(None, 149), dtype=tf.int64, name=None), TensorSpec(shape=(None, 149), dtype=tf.int64, name=None))>"
            ]
          },
          "metadata": {},
          "execution_count": 12
        }
      ]
    },
    {
      "cell_type": "markdown",
      "source": [
        "**Positional Embedding Layer:**\n",
        "\n",
        "The code defines a custom layer called PositionalEmbedding that adds positional embeddings to the input sequence.\n",
        "\n",
        "The layer takes three arguments during initialization:\n",
        "\n",
        "sequence_length: An integer specifying the length of the input sequence.\n",
        "input_dim: An integer specifying the size of the input vocabulary.\n",
        "output_dim: An integer specifying the dimensionality of the output embeddings.\n",
        "During initialization, the layer creates two Embedding layers: one for token embeddings and one for positional embeddings. The token_embeddings layer is an Embedding layer that maps the integer indices of the input tokens to their corresponding embeddings. The position_embeddings layer is another Embedding layer that maps the integer positions in the input sequence to their corresponding embeddings.\n",
        "\n",
        "The call() method takes the input tensor as input and returns the tensor after adding the token embeddings and the positional embeddings. The length of the input tensor is calculated using the tf.shape() function, and the positions are generated using the tf.range() function. The token_embeddings and position_embeddings are computed using their respective Embedding layers, and then added together.\n",
        "\n",
        "The compute_mask() method returns a boolean mask for the input tensor, indicating which elements are not equal to 0. This is used to filter out the padding tokens in the subsequent layers.\n",
        "\n",
        "The get_config() method returns a dictionary containing the configuration of the layer, including the sequence_length, input_dim, and output_dim parameters. This is useful for saving and loading the model.\n",
        "\n",
        "**Transformer Decoder Layer:**\n",
        "\n",
        "This is a TransformerDecoder class in a sequence-to-sequence model, which extends the Layer class from TensorFlow. The TransformerDecoder is a core component of the decoder block of a transformer architecture.\n",
        "\n",
        "The class takes in three parameters in the constructor - embed_dim, dense_dim, and num_heads, which represent the dimensions of the embedding layer, the dense layer, and the number of attention heads, respectively.\n",
        "\n",
        "The class contains three multi-head attention layers (attention_1, attention_2, and attention_3) and a dense projection layer (dense_proj). The multi-head attention layers take in the query, value, and key inputs and apply the scaled dot-product attention mechanism. The dense_proj layer is a feedforward network that transforms the output of the attention layer.\n",
        "\n",
        "The class also contains several layer normalization layers (layernorm_1, layernorm_2, layernorm_3, and layernorm_4) that normalize the output of each layer. The get_causal_attention_mask function creates a causal mask for the self-attention mechanism.\n",
        "\n",
        "The call function takes in three parameters - inputs, encoder_outputs, and mask - which represent the inputs to the decoder, the output of the encoder, and the mask for the inputs, respectively. It first applies the self-attention mechanism (attention_1) to the inputs using a causal mask. It then applies the second attention mechanism (attention_2) to the encoder outputs and the output of the first attention layer. Finally, it applies the third attention mechanism (attention_3) to the output of the second attention layer and the encoder outputs. The output of the third attention mechanism is passed through the dense projection layer, and the result is added to the output of the third attention layer. The output is then normalized using the layernorm_4 layer and returned.\n",
        "\n",
        "\n",
        "\n"
      ],
      "metadata": {
        "id": "Y8tFWmvgbk2V"
      }
    },
    {
      "cell_type": "code",
      "source": [
        "#A Transformer-based sequence-to-sequence model\n",
        "import tensorflow as tf\n",
        "from tensorflow.keras import layers\n",
        "\n",
        "class PositionalEmbedding(layers.Layer):\n",
        "    def __init__(self, sequence_length, input_dim, output_dim, **kwargs):\n",
        "        super().__init__(**kwargs)\n",
        "        self.token_embeddings = layers.Embedding(\n",
        "            input_dim=input_dim, output_dim=output_dim)\n",
        "        self.position_embeddings = layers.Embedding(\n",
        "            input_dim=sequence_length, output_dim=output_dim)\n",
        "        self.sequence_length = sequence_length\n",
        "        self.input_dim = input_dim\n",
        "        self.output_dim = output_dim\n",
        "\n",
        "    def call(self, inputs):\n",
        "        length = tf.shape(inputs)[-1]\n",
        "        positions = tf.range(start=0, limit=length, delta=1)\n",
        "        embedded_tokens = self.token_embeddings(inputs)\n",
        "        embedded_positions = self.position_embeddings(positions)\n",
        "        return embedded_tokens + embedded_positions\n",
        "\n",
        "    def compute_mask(self, inputs, mask=None):\n",
        "        return tf.math.not_equal(inputs, 0)\n",
        "\n",
        "    def get_config(self):\n",
        "        config = super(PositionalEmbedding, self).get_config()\n",
        "        config.update({\n",
        "            \"output_dim\": self.output_dim,\n",
        "            \"sequence_length\": self.sequence_length,\n",
        "            \"input_dim\": self.input_dim,\n",
        "        })\n",
        "        return config\n",
        "\n",
        "\n",
        "class TransformerDecoder(layers.Layer):\n",
        "    def __init__(self, embed_dim, dense_dim, num_heads, **kwargs):\n",
        "        super().__init__(**kwargs)\n",
        "        self.embed_dim = embed_dim\n",
        "        self.dense_dim = dense_dim\n",
        "        self.num_heads = num_heads\n",
        "        self.attention_1 = layers.MultiHeadAttention(\n",
        "          num_heads=num_heads, key_dim=embed_dim)\n",
        "        self.attention_2 = layers.MultiHeadAttention(\n",
        "          num_heads=num_heads, key_dim=embed_dim)\n",
        "        self.dense_proj = keras.Sequential(\n",
        "            [layers.Dense(dense_dim, activation=\"relu\"),\n",
        "             layers.Dropout(0.4),\n",
        "             layers.Dense(embed_dim)]\n",
        "        )\n",
        "\n",
        "        self.layernorm_1 = layers.LayerNormalization()\n",
        "        self.layernorm_2 = layers.LayerNormalization()\n",
        "        self.layernorm_3 = layers.LayerNormalization()\n",
        "        self.supports_masking = True\n",
        "\n",
        "    def get_config(self):\n",
        "        config = super(TransformerDecoder, self).get_config()\n",
        "        config.update({\n",
        "            \"embed_dim\": self.embed_dim,\n",
        "            \"num_heads\": self.num_heads,\n",
        "            \"dense_dim\": self.dense_dim,\n",
        "        })\n",
        "        return config\n",
        "\n",
        "    def get_causal_attention_mask(self, inputs):\n",
        "        input_shape = tf.shape(inputs)\n",
        "        batch_size, sequence_length = input_shape[0], input_shape[1]\n",
        "        i = tf.range(sequence_length)[:, tf.newaxis]\n",
        "        j = tf.range(sequence_length)\n",
        "        mask = tf.cast(i >= j, dtype=\"int32\")\n",
        "        mask = tf.reshape(mask, (1, input_shape[1], input_shape[1]))\n",
        "        mult = tf.concat(\n",
        "            [tf.expand_dims(batch_size, -1),\n",
        "             tf.constant([1, 1], dtype=tf.int32)], axis=0)\n",
        "        return tf.tile(mask, mult)\n",
        "\n",
        "    def call(self, inputs, encoder_outputs, mask=None):\n",
        "        causal_mask = self.get_causal_attention_mask(inputs)\n",
        "        if mask is not None:\n",
        "            padding_mask = tf.cast(\n",
        "                mask[:, tf.newaxis, :], dtype=\"int32\")\n",
        "            padding_mask = tf.minimum(padding_mask, causal_mask)\n",
        "        else:\n",
        "            padding_mask = mask\n",
        "        attention_output_1 = self.attention_1(\n",
        "            query=inputs,\n",
        "            value=inputs,\n",
        "            key=inputs,\n",
        "            attention_mask=causal_mask)\n",
        "        attention_output_1 = self.layernorm_1(inputs + attention_output_1)\n",
        "        attention_output_2 = self.attention_2(\n",
        "            query=attention_output_1,\n",
        "            value=encoder_outputs,\n",
        "            key=encoder_outputs,\n",
        "            attention_mask=padding_mask,\n",
        "        )\n",
        "        attention_output_2 = self.layernorm_2(attention_output_1 + attention_output_2)\n",
        "        proj_output = self.dense_proj(attention_output_2)\n",
        "        return self.layernorm_3(attention_output_2 + proj_output)\n",
        "\n",
        ""
      ],
      "metadata": {
        "id": "fzy2jhyBG_iF"
      },
      "execution_count": null,
      "outputs": []
    },
    {
      "cell_type": "markdown",
      "source": [
        "This code defines a Keras model for a Transformer decoder. The model takes an input tensor of shape (batch_size, sequence_length) containing integer tokens, which are passed through a PositionalEmbedding layer and then into a TransformerDecoder layer. Finally, the output from the TransformerDecoder layer is passed through a Dense layer with vocab_size units and a softmax activation function to produce a probability distribution over the vocabulary.\n",
        "\n",
        "The TransformerDecoder layer uses multi-head self-attention and multi-head encoder-decoder attention to process the input tokens. It also includes a series of dense layers to project the attention output to the output vocabulary size. The PositionalEmbedding layer adds positional embeddings to the input tokens, which are required for the Transformer architecture to capture the order of the sequence. The inputs tensor should contain integer tokens, where each integer represents the index of a word in a vocabulary.\n",
        "\n",
        "This model can be used for a variety of sequence-to-sequence tasks, such as language translation, summarization, or question answering."
      ],
      "metadata": {
        "id": "YEAfr3YpcTbM"
      }
    },
    {
      "cell_type": "code",
      "source": [
        "# A simple Transformer-based language model\n",
        "from tensorflow import keras\n",
        "from tensorflow.keras import layers\n",
        "embed_dim = 256\n",
        "latent_dim = 1024\n",
        "num_heads = 2\n",
        "\n",
        "inputs = keras.Input(shape=(None,), dtype=\"int64\")\n",
        "x = PositionalEmbedding(sequence_length, vocab_size, embed_dim)(inputs)\n",
        "x = TransformerDecoder(embed_dim, latent_dim, num_heads)(x, x)\n",
        "outputs = layers.Dense(vocab_size, activation=\"softmax\")(x)\n",
        "model = keras.Model(inputs, outputs)\n"
      ],
      "metadata": {
        "id": "TuU6Y2UeHWNE"
      },
      "execution_count": null,
      "outputs": []
    },
    {
      "cell_type": "markdown",
      "source": [
        "\n",
        "We are training a transformer model using the rmsprop optimizer and monitoring the validation accuracy. The model will be saved at each epoch if the validation accuracy improves (ModelCheckpoint callback).\n",
        "\n",
        "We are training the model for 100 epochs using rmsprop optimisation function"
      ],
      "metadata": {
        "id": "bPC0Yb7cchu4"
      }
    },
    {
      "cell_type": "code",
      "source": [
        "#Training the sequence-to-sequence Transformer\n",
        "from tensorflow.keras.optimizers import Adam\n",
        "\n",
        "callbacks = [\n",
        "    keras.callbacks.ModelCheckpoint(\n",
        "        filepath=\"transformer_model.keras\",\n",
        "        save_best_only=True,\n",
        "        monitor=\"val_accuracy\")]\n",
        "\n",
        "#model.compile(optimizer=Adam(), loss=\"sparse_categorical_crossentropy\", metrics=[\"accuracy\"])\n",
        "\n",
        "model.compile(loss=\"sparse_categorical_crossentropy\", optimizer=\"rmsprop\", metrics=[\"accuracy\"])\n",
        "\n",
        "history=model.fit(train_dataset, epochs=100, validation_data=val_dataset, callbacks=callbacks)"
      ],
      "metadata": {
        "colab": {
          "base_uri": "https://localhost:8080/"
        },
        "id": "9pWld4z7nasr",
        "outputId": "25a4afb9-a995-44cb-eaa5-20f6e091a328"
      },
      "execution_count": null,
      "outputs": [
        {
          "output_type": "stream",
          "name": "stdout",
          "text": [
            "Epoch 1/100\n",
            "134/134 [==============================] - 14s 34ms/step - loss: 1.6896 - accuracy: 0.2944 - val_loss: 1.4460 - val_accuracy: 0.3337\n",
            "Epoch 2/100\n",
            "134/134 [==============================] - 4s 29ms/step - loss: 1.4328 - accuracy: 0.3186 - val_loss: 1.4114 - val_accuracy: 0.3360\n",
            "Epoch 3/100\n",
            "134/134 [==============================] - 4s 29ms/step - loss: 1.4025 - accuracy: 0.3288 - val_loss: 1.4052 - val_accuracy: 0.3358\n",
            "Epoch 4/100\n",
            "134/134 [==============================] - 4s 30ms/step - loss: 1.3893 - accuracy: 0.3340 - val_loss: 1.3971 - val_accuracy: 0.3382\n",
            "Epoch 5/100\n",
            "134/134 [==============================] - 4s 30ms/step - loss: 1.3815 - accuracy: 0.3376 - val_loss: 1.3845 - val_accuracy: 0.3428\n",
            "Epoch 6/100\n",
            "134/134 [==============================] - 4s 30ms/step - loss: 1.3756 - accuracy: 0.3400 - val_loss: 1.3785 - val_accuracy: 0.3431\n",
            "Epoch 7/100\n",
            "134/134 [==============================] - 4s 30ms/step - loss: 1.3722 - accuracy: 0.3416 - val_loss: 1.3701 - val_accuracy: 0.3490\n",
            "Epoch 8/100\n",
            "134/134 [==============================] - 4s 30ms/step - loss: 1.3690 - accuracy: 0.3435 - val_loss: 1.3819 - val_accuracy: 0.3433\n",
            "Epoch 9/100\n",
            "134/134 [==============================] - 4s 30ms/step - loss: 1.3672 - accuracy: 0.3436 - val_loss: 1.3711 - val_accuracy: 0.3434\n",
            "Epoch 10/100\n",
            "134/134 [==============================] - 4s 30ms/step - loss: 1.3647 - accuracy: 0.3443 - val_loss: 1.3789 - val_accuracy: 0.3433\n",
            "Epoch 11/100\n",
            "134/134 [==============================] - 4s 30ms/step - loss: 1.3641 - accuracy: 0.3443 - val_loss: 1.3635 - val_accuracy: 0.3489\n",
            "Epoch 12/100\n",
            "134/134 [==============================] - 4s 30ms/step - loss: 1.3626 - accuracy: 0.3452 - val_loss: 1.3627 - val_accuracy: 0.3487\n",
            "Epoch 13/100\n",
            "134/134 [==============================] - 4s 30ms/step - loss: 1.3613 - accuracy: 0.3467 - val_loss: 1.3702 - val_accuracy: 0.3438\n",
            "Epoch 14/100\n",
            "134/134 [==============================] - 4s 31ms/step - loss: 1.3610 - accuracy: 0.3461 - val_loss: 1.3594 - val_accuracy: 0.3508\n",
            "Epoch 15/100\n",
            "134/134 [==============================] - 4s 31ms/step - loss: 1.3596 - accuracy: 0.3481 - val_loss: 1.3716 - val_accuracy: 0.3433\n",
            "Epoch 16/100\n",
            "134/134 [==============================] - 4s 31ms/step - loss: 1.3587 - accuracy: 0.3479 - val_loss: 1.3674 - val_accuracy: 0.3455\n",
            "Epoch 17/100\n",
            "134/134 [==============================] - 4s 31ms/step - loss: 1.3591 - accuracy: 0.3480 - val_loss: 1.3588 - val_accuracy: 0.3499\n",
            "Epoch 18/100\n",
            "134/134 [==============================] - 4s 31ms/step - loss: 1.3575 - accuracy: 0.3482 - val_loss: 1.3596 - val_accuracy: 0.3487\n",
            "Epoch 19/100\n",
            "134/134 [==============================] - 4s 31ms/step - loss: 1.3574 - accuracy: 0.3484 - val_loss: 1.3576 - val_accuracy: 0.3504\n",
            "Epoch 20/100\n",
            "134/134 [==============================] - 4s 31ms/step - loss: 1.3570 - accuracy: 0.3492 - val_loss: 1.3611 - val_accuracy: 0.3475\n",
            "Epoch 21/100\n",
            "134/134 [==============================] - 4s 32ms/step - loss: 1.3564 - accuracy: 0.3488 - val_loss: 1.3650 - val_accuracy: 0.3454\n",
            "Epoch 22/100\n",
            "134/134 [==============================] - 4s 32ms/step - loss: 1.3563 - accuracy: 0.3485 - val_loss: 1.3566 - val_accuracy: 0.3506\n",
            "Epoch 23/100\n",
            "134/134 [==============================] - 4s 32ms/step - loss: 1.3557 - accuracy: 0.3495 - val_loss: 1.3564 - val_accuracy: 0.3499\n",
            "Epoch 24/100\n",
            "134/134 [==============================] - 4s 32ms/step - loss: 1.3553 - accuracy: 0.3496 - val_loss: 1.3557 - val_accuracy: 0.3508\n",
            "Epoch 25/100\n",
            "134/134 [==============================] - 4s 32ms/step - loss: 1.3547 - accuracy: 0.3498 - val_loss: 1.3582 - val_accuracy: 0.3480\n",
            "Epoch 26/100\n",
            "134/134 [==============================] - 4s 32ms/step - loss: 1.3546 - accuracy: 0.3502 - val_loss: 1.3597 - val_accuracy: 0.3471\n",
            "Epoch 27/100\n",
            "134/134 [==============================] - 4s 32ms/step - loss: 1.3540 - accuracy: 0.3506 - val_loss: 1.3555 - val_accuracy: 0.3516\n",
            "Epoch 28/100\n",
            "134/134 [==============================] - 4s 31ms/step - loss: 1.3539 - accuracy: 0.3504 - val_loss: 1.3551 - val_accuracy: 0.3509\n",
            "Epoch 29/100\n",
            "134/134 [==============================] - 4s 31ms/step - loss: 1.3533 - accuracy: 0.3504 - val_loss: 1.3564 - val_accuracy: 0.3488\n",
            "Epoch 30/100\n",
            "134/134 [==============================] - 4s 31ms/step - loss: 1.3536 - accuracy: 0.3508 - val_loss: 1.3549 - val_accuracy: 0.3501\n",
            "Epoch 31/100\n",
            "134/134 [==============================] - 4s 31ms/step - loss: 1.3527 - accuracy: 0.3508 - val_loss: 1.3578 - val_accuracy: 0.3489\n",
            "Epoch 32/100\n",
            "134/134 [==============================] - 4s 31ms/step - loss: 1.3528 - accuracy: 0.3514 - val_loss: 1.3573 - val_accuracy: 0.3493\n",
            "Epoch 33/100\n",
            "134/134 [==============================] - 4s 31ms/step - loss: 1.3524 - accuracy: 0.3506 - val_loss: 1.3567 - val_accuracy: 0.3486\n",
            "Epoch 34/100\n",
            "134/134 [==============================] - 4s 31ms/step - loss: 1.3517 - accuracy: 0.3513 - val_loss: 1.3608 - val_accuracy: 0.3467\n",
            "Epoch 35/100\n",
            "134/134 [==============================] - 4s 31ms/step - loss: 1.3519 - accuracy: 0.3511 - val_loss: 1.3556 - val_accuracy: 0.3498\n",
            "Epoch 36/100\n",
            "134/134 [==============================] - 4s 31ms/step - loss: 1.3518 - accuracy: 0.3517 - val_loss: 1.3545 - val_accuracy: 0.3503\n",
            "Epoch 37/100\n",
            "134/134 [==============================] - 4s 31ms/step - loss: 1.3516 - accuracy: 0.3520 - val_loss: 1.3545 - val_accuracy: 0.3506\n",
            "Epoch 38/100\n",
            "134/134 [==============================] - 4s 31ms/step - loss: 1.3514 - accuracy: 0.3517 - val_loss: 1.3542 - val_accuracy: 0.3501\n",
            "Epoch 39/100\n",
            "134/134 [==============================] - 4s 31ms/step - loss: 1.3512 - accuracy: 0.3520 - val_loss: 1.3559 - val_accuracy: 0.3499\n",
            "Epoch 40/100\n",
            "134/134 [==============================] - 4s 31ms/step - loss: 1.3509 - accuracy: 0.3518 - val_loss: 1.3546 - val_accuracy: 0.3500\n",
            "Epoch 41/100\n",
            "134/134 [==============================] - 4s 31ms/step - loss: 1.3508 - accuracy: 0.3520 - val_loss: 1.3543 - val_accuracy: 0.3496\n",
            "Epoch 42/100\n",
            "134/134 [==============================] - 4s 31ms/step - loss: 1.3504 - accuracy: 0.3521 - val_loss: 1.3545 - val_accuracy: 0.3488\n",
            "Epoch 43/100\n",
            "134/134 [==============================] - 4s 31ms/step - loss: 1.3502 - accuracy: 0.3525 - val_loss: 1.3543 - val_accuracy: 0.3496\n",
            "Epoch 44/100\n",
            "134/134 [==============================] - 4s 31ms/step - loss: 1.3502 - accuracy: 0.3532 - val_loss: 1.3547 - val_accuracy: 0.3509\n",
            "Epoch 45/100\n",
            "134/134 [==============================] - 4s 31ms/step - loss: 1.3499 - accuracy: 0.3530 - val_loss: 1.3540 - val_accuracy: 0.3509\n",
            "Epoch 46/100\n",
            "134/134 [==============================] - 4s 32ms/step - loss: 1.3500 - accuracy: 0.3518 - val_loss: 1.3547 - val_accuracy: 0.3496\n",
            "Epoch 47/100\n",
            "134/134 [==============================] - 4s 31ms/step - loss: 1.3494 - accuracy: 0.3532 - val_loss: 1.3548 - val_accuracy: 0.3495\n",
            "Epoch 48/100\n",
            "134/134 [==============================] - 4s 31ms/step - loss: 1.3494 - accuracy: 0.3530 - val_loss: 1.3541 - val_accuracy: 0.3503\n",
            "Epoch 49/100\n",
            "134/134 [==============================] - 4s 31ms/step - loss: 1.3492 - accuracy: 0.3537 - val_loss: 1.3565 - val_accuracy: 0.3493\n",
            "Epoch 50/100\n",
            "134/134 [==============================] - 4s 31ms/step - loss: 1.3493 - accuracy: 0.3529 - val_loss: 1.3542 - val_accuracy: 0.3500\n",
            "Epoch 51/100\n",
            "134/134 [==============================] - 4s 32ms/step - loss: 1.3490 - accuracy: 0.3538 - val_loss: 1.3541 - val_accuracy: 0.3504\n",
            "Epoch 52/100\n",
            "134/134 [==============================] - 4s 31ms/step - loss: 1.3487 - accuracy: 0.3531 - val_loss: 1.3550 - val_accuracy: 0.3485\n",
            "Epoch 53/100\n",
            "134/134 [==============================] - 4s 31ms/step - loss: 1.3485 - accuracy: 0.3534 - val_loss: 1.3549 - val_accuracy: 0.3502\n",
            "Epoch 54/100\n",
            "134/134 [==============================] - 4s 31ms/step - loss: 1.3486 - accuracy: 0.3538 - val_loss: 1.3545 - val_accuracy: 0.3494\n",
            "Epoch 55/100\n",
            "134/134 [==============================] - 4s 31ms/step - loss: 1.3483 - accuracy: 0.3546 - val_loss: 1.3545 - val_accuracy: 0.3492\n",
            "Epoch 56/100\n",
            "134/134 [==============================] - 4s 31ms/step - loss: 1.3480 - accuracy: 0.3553 - val_loss: 1.3539 - val_accuracy: 0.3500\n",
            "Epoch 57/100\n",
            "134/134 [==============================] - 4s 31ms/step - loss: 1.3479 - accuracy: 0.3551 - val_loss: 1.3541 - val_accuracy: 0.3502\n",
            "Epoch 58/100\n",
            "134/134 [==============================] - 4s 31ms/step - loss: 1.3480 - accuracy: 0.3539 - val_loss: 1.3541 - val_accuracy: 0.3498\n",
            "Epoch 59/100\n",
            "134/134 [==============================] - 4s 32ms/step - loss: 1.3479 - accuracy: 0.3546 - val_loss: 1.3543 - val_accuracy: 0.3501\n",
            "Epoch 60/100\n",
            "134/134 [==============================] - 4s 31ms/step - loss: 1.3477 - accuracy: 0.3555 - val_loss: 1.3542 - val_accuracy: 0.3497\n",
            "Epoch 61/100\n",
            "134/134 [==============================] - 4s 31ms/step - loss: 1.3475 - accuracy: 0.3551 - val_loss: 1.3545 - val_accuracy: 0.3493\n",
            "Epoch 62/100\n",
            "134/134 [==============================] - 4s 31ms/step - loss: 1.3473 - accuracy: 0.3552 - val_loss: 1.3545 - val_accuracy: 0.3499\n",
            "Epoch 63/100\n",
            "134/134 [==============================] - 4s 31ms/step - loss: 1.3469 - accuracy: 0.3557 - val_loss: 1.3545 - val_accuracy: 0.3496\n",
            "Epoch 64/100\n",
            "134/134 [==============================] - 4s 31ms/step - loss: 1.3471 - accuracy: 0.3553 - val_loss: 1.3553 - val_accuracy: 0.3500\n",
            "Epoch 65/100\n",
            "134/134 [==============================] - 4s 31ms/step - loss: 1.3471 - accuracy: 0.3549 - val_loss: 1.3546 - val_accuracy: 0.3490\n",
            "Epoch 66/100\n",
            "134/134 [==============================] - 4s 31ms/step - loss: 1.3466 - accuracy: 0.3554 - val_loss: 1.3553 - val_accuracy: 0.3475\n",
            "Epoch 67/100\n",
            "134/134 [==============================] - 4s 32ms/step - loss: 1.3464 - accuracy: 0.3560 - val_loss: 1.3550 - val_accuracy: 0.3489\n",
            "Epoch 68/100\n",
            "134/134 [==============================] - 4s 31ms/step - loss: 1.3466 - accuracy: 0.3564 - val_loss: 1.3540 - val_accuracy: 0.3496\n",
            "Epoch 69/100\n",
            "134/134 [==============================] - 4s 31ms/step - loss: 1.3463 - accuracy: 0.3564 - val_loss: 1.3552 - val_accuracy: 0.3504\n",
            "Epoch 70/100\n",
            "134/134 [==============================] - 4s 31ms/step - loss: 1.3463 - accuracy: 0.3561 - val_loss: 1.3546 - val_accuracy: 0.3497\n",
            "Epoch 71/100\n",
            "134/134 [==============================] - 4s 31ms/step - loss: 1.3457 - accuracy: 0.3566 - val_loss: 1.3581 - val_accuracy: 0.3489\n",
            "Epoch 72/100\n",
            "134/134 [==============================] - 4s 31ms/step - loss: 1.3461 - accuracy: 0.3570 - val_loss: 1.3542 - val_accuracy: 0.3497\n",
            "Epoch 73/100\n",
            "134/134 [==============================] - 4s 31ms/step - loss: 1.3457 - accuracy: 0.3573 - val_loss: 1.3549 - val_accuracy: 0.3483\n",
            "Epoch 74/100\n",
            "134/134 [==============================] - 4s 31ms/step - loss: 1.3453 - accuracy: 0.3574 - val_loss: 1.3559 - val_accuracy: 0.3496\n",
            "Epoch 75/100\n",
            "134/134 [==============================] - 4s 32ms/step - loss: 1.3455 - accuracy: 0.3578 - val_loss: 1.3559 - val_accuracy: 0.3501\n",
            "Epoch 76/100\n",
            "134/134 [==============================] - 4s 31ms/step - loss: 1.3453 - accuracy: 0.3575 - val_loss: 1.3563 - val_accuracy: 0.3484\n",
            "Epoch 77/100\n",
            "134/134 [==============================] - 4s 31ms/step - loss: 1.3451 - accuracy: 0.3584 - val_loss: 1.3553 - val_accuracy: 0.3486\n",
            "Epoch 78/100\n",
            "134/134 [==============================] - 4s 31ms/step - loss: 1.3449 - accuracy: 0.3574 - val_loss: 1.3556 - val_accuracy: 0.3498\n",
            "Epoch 79/100\n",
            "134/134 [==============================] - 4s 31ms/step - loss: 1.3451 - accuracy: 0.3584 - val_loss: 1.3550 - val_accuracy: 0.3499\n",
            "Epoch 80/100\n",
            "134/134 [==============================] - 4s 31ms/step - loss: 1.3448 - accuracy: 0.3585 - val_loss: 1.3553 - val_accuracy: 0.3487\n",
            "Epoch 81/100\n",
            "134/134 [==============================] - 4s 32ms/step - loss: 1.3446 - accuracy: 0.3580 - val_loss: 1.3555 - val_accuracy: 0.3488\n",
            "Epoch 82/100\n",
            "134/134 [==============================] - 4s 31ms/step - loss: 1.3445 - accuracy: 0.3587 - val_loss: 1.3548 - val_accuracy: 0.3502\n",
            "Epoch 83/100\n",
            "134/134 [==============================] - 4s 31ms/step - loss: 1.3439 - accuracy: 0.3576 - val_loss: 1.3573 - val_accuracy: 0.3498\n",
            "Epoch 84/100\n",
            "134/134 [==============================] - 4s 31ms/step - loss: 1.3438 - accuracy: 0.3591 - val_loss: 1.3561 - val_accuracy: 0.3502\n",
            "Epoch 85/100\n",
            "134/134 [==============================] - 4s 31ms/step - loss: 1.3438 - accuracy: 0.3595 - val_loss: 1.3562 - val_accuracy: 0.3487\n",
            "Epoch 86/100\n",
            "134/134 [==============================] - 4s 32ms/step - loss: 1.3438 - accuracy: 0.3596 - val_loss: 1.3562 - val_accuracy: 0.3488\n",
            "Epoch 87/100\n",
            "134/134 [==============================] - 4s 31ms/step - loss: 1.3436 - accuracy: 0.3602 - val_loss: 1.3560 - val_accuracy: 0.3493\n",
            "Epoch 88/100\n",
            "134/134 [==============================] - 4s 31ms/step - loss: 1.3433 - accuracy: 0.3599 - val_loss: 1.3574 - val_accuracy: 0.3484\n",
            "Epoch 89/100\n",
            "134/134 [==============================] - 4s 32ms/step - loss: 1.3432 - accuracy: 0.3607 - val_loss: 1.3556 - val_accuracy: 0.3483\n",
            "Epoch 90/100\n",
            "134/134 [==============================] - 4s 31ms/step - loss: 1.3430 - accuracy: 0.3597 - val_loss: 1.3572 - val_accuracy: 0.3477\n",
            "Epoch 91/100\n",
            "134/134 [==============================] - 4s 31ms/step - loss: 1.3431 - accuracy: 0.3600 - val_loss: 1.3591 - val_accuracy: 0.3478\n",
            "Epoch 92/100\n",
            "134/134 [==============================] - 4s 31ms/step - loss: 1.3428 - accuracy: 0.3606 - val_loss: 1.3583 - val_accuracy: 0.3476\n",
            "Epoch 93/100\n",
            "134/134 [==============================] - 4s 31ms/step - loss: 1.3427 - accuracy: 0.3604 - val_loss: 1.3577 - val_accuracy: 0.3480\n",
            "Epoch 94/100\n",
            "134/134 [==============================] - 4s 31ms/step - loss: 1.3423 - accuracy: 0.3614 - val_loss: 1.3570 - val_accuracy: 0.3479\n",
            "Epoch 95/100\n",
            "134/134 [==============================] - 4s 31ms/step - loss: 1.3419 - accuracy: 0.3611 - val_loss: 1.3605 - val_accuracy: 0.3469\n",
            "Epoch 96/100\n",
            "134/134 [==============================] - 4s 31ms/step - loss: 1.3419 - accuracy: 0.3622 - val_loss: 1.3591 - val_accuracy: 0.3484\n",
            "Epoch 97/100\n",
            "134/134 [==============================] - 4s 31ms/step - loss: 1.3419 - accuracy: 0.3624 - val_loss: 1.3581 - val_accuracy: 0.3464\n",
            "Epoch 98/100\n",
            "134/134 [==============================] - 4s 31ms/step - loss: 1.3420 - accuracy: 0.3618 - val_loss: 1.3591 - val_accuracy: 0.3468\n",
            "Epoch 99/100\n",
            "134/134 [==============================] - 4s 31ms/step - loss: 1.3408 - accuracy: 0.3621 - val_loss: 1.3632 - val_accuracy: 0.3454\n",
            "Epoch 100/100\n",
            "134/134 [==============================] - 4s 31ms/step - loss: 1.3414 - accuracy: 0.3627 - val_loss: 1.3607 - val_accuracy: 0.3466\n"
          ]
        }
      ]
    },
    {
      "cell_type": "code",
      "source": [
        "history_dict = history.history\n",
        "history_dict.keys()"
      ],
      "metadata": {
        "colab": {
          "base_uri": "https://localhost:8080/"
        },
        "id": "N3bYFvbWFxUn",
        "outputId": "48f85425-a5f8-4919-e812-67b165efc251"
      },
      "execution_count": null,
      "outputs": [
        {
          "output_type": "execute_result",
          "data": {
            "text/plain": [
              "dict_keys(['loss', 'accuracy', 'val_loss', 'val_accuracy'])"
            ]
          },
          "metadata": {},
          "execution_count": 16
        }
      ]
    },
    {
      "cell_type": "code",
      "source": [
        "import matplotlib.pyplot as plt\n",
        "history_dict = history.history\n",
        "loss_values = history_dict[\"loss\"]\n",
        "val_loss_values = history_dict[\"val_loss\"]\n",
        "epochs = range(1, len(loss_values) + 1)\n",
        "plt.plot(epochs, loss_values, \"bo\", label=\"Training loss\")\n",
        "plt.plot(epochs, val_loss_values, \"b\", label=\"Validation loss\")\n",
        "plt.title(\"Training and validation loss\")\n",
        "plt.xlabel(\"Epochs\")\n",
        "plt.ylabel(\"Loss\")\n",
        "plt.legend()\n",
        "plt.show()"
      ],
      "metadata": {
        "colab": {
          "base_uri": "https://localhost:8080/",
          "height": 472
        },
        "id": "3eJNCBHPFyNN",
        "outputId": "0d0e0366-0d34-4a14-a079-aae16a3d5b3d"
      },
      "execution_count": null,
      "outputs": [
        {
          "output_type": "display_data",
          "data": {
            "text/plain": [
              "<Figure size 640x480 with 1 Axes>"
            ],
            "image/png": "[encoded data removed]"
          },
          "metadata": {}
        }
      ]
    },
    {
      "cell_type": "markdown",
      "source": [
        "The model seems to overfit after 30 epochs, but we anyways save the best model having highest validation accuracy."
      ],
      "metadata": {
        "id": "j7vD5yG2fuTE"
      }
    },
    {
      "cell_type": "code",
      "source": [
        "plt.clf()\n",
        "acc = history_dict[\"accuracy\"]\n",
        "val_acc = history_dict[\"val_accuracy\"]\n",
        "plt.plot(epochs, acc, \"bo\", label=\"Training acc\")\n",
        "plt.plot(epochs, val_acc, \"b\", label=\"Validation acc\")\n",
        "plt.title(\"Training and validation accuracy\")\n",
        "plt.xlabel(\"Epochs\")\n",
        "plt.ylabel(\"Accuracy\")\n",
        "plt.legend()\n",
        "plt.show()"
      ],
      "metadata": {
        "colab": {
          "base_uri": "https://localhost:8080/",
          "height": 472
        },
        "id": "IlCjWQuKOLY5",
        "outputId": "e32d2c9f-6236-4ea9-92ec-5bb338b11b14"
      },
      "execution_count": null,
      "outputs": [
        {
          "output_type": "display_data",
          "data": {
            "text/plain": [
              "<Figure size 640x480 with 1 Axes>"
            ],
            "image/png": "[encoded data removed]"
          },
          "metadata": {}
        }
      ]
    },
    {
      "cell_type": "code",
      "source": [
        "# prompt = \" \".join(dataset_input[40])\n",
        "# tokenized_sentence = text_vectorization([prompt])\n",
        "# predictions = model.predict(tokenized_sentence)\n",
        "# vectorized_prompt = text_vectorization([prompt])[0].numpy()\n",
        "# prompt_length = np.nonzero(vectorized_prompt == 0)[0][0]\n",
        "# next_token = sample_next( predictions[0, prompt_length - 1 , :])\n",
        "# sampled_token = tokens_index[next_token]\n",
        "# print(sampled_token)"
      ],
      "metadata": {
        "id": "1IingdtGTYEQ"
      },
      "execution_count": null,
      "outputs": []
    },
    {
      "cell_type": "markdown",
      "source": [
        "We are trying to load a saved model using the load_model function from Keras. However, since we have used custom layers (PositionalEmbedding and TransformerDecoder) in your model, we need to pass a custom_objects dictionary to the load_model function so that Keras knows how to reconstruct these layers."
      ],
      "metadata": {
        "id": "3okiz4XKgmUH"
      }
    },
    {
      "cell_type": "code",
      "source": [
        "import pickle\n",
        "from keras.utils import custom_object_scope\n",
        "\n",
        "\n",
        "# Define the custom objects dictionary\n",
        "custom_objects = {'PositionalEmbedding': PositionalEmbedding, 'TransformerDecoder': TransformerDecoder}\n",
        "\n",
        "# Load the model using custom_object_scope\n",
        "with custom_object_scope(custom_objects):\n",
        "    model_from_memory = keras.models.load_model(\"transformer_model.keras\")"
      ],
      "metadata": {
        "id": "Lpf9UEPoLgER"
      },
      "execution_count": null,
      "outputs": []
    },
    {
      "cell_type": "markdown",
      "source": [
        "The predict_next_word function takes an input sentence and a temperature value as inputs and returns the predicted next word using the loaded transformer model."
      ],
      "metadata": {
        "id": "9Z6KDRO2g1p4"
      }
    },
    {
      "cell_type": "code",
      "source": [
        "import numpy as np\n",
        "\n",
        "tokens_index = dict(enumerate(text_vectorization.get_vocabulary()))\n",
        "\n",
        "def sample_next(predictions, temperature=1.0):\n",
        "    predictions = np.asarray(predictions).astype(\"float64\")\n",
        "    predictions = np.log(predictions) / temperature\n",
        "    exp_preds = np.exp(predictions)\n",
        "    predictions = exp_preds / np.sum(exp_preds)\n",
        "    probas = np.random.multinomial(1, predictions, 1)\n",
        "    return np.argmax(probas)\n",
        "\n",
        "def predict_next_word(input_sentence, temp):\n",
        "  #prompt = \" \".join(input_sentence)\n",
        "  tokenized_sentence = text_vectorization([input_sentence])\n",
        "  predictions = model_from_memory.predict(tokenized_sentence, verbose=0)\n",
        "  vectorized_prompt = text_vectorization([input_sentence])[0].numpy()\n",
        "  prompt_length = np.nonzero(vectorized_prompt == 0)[0][0]\n",
        "  next_token = sample_next( predictions[0, prompt_length - 1 , :], temp)\n",
        "  sampled_token = tokens_index[next_token]\n",
        "  return sampled_token"
      ],
      "metadata": {
        "id": "aMIdTc78qxad"
      },
      "execution_count": null,
      "outputs": []
    },
    {
      "cell_type": "markdown",
      "source": [
        "We are comparing the predicted output with our actual output on the training dataset. This shows us that temp=0.2 has the best output for our training dataset so we use this temp to generate the next words for our testing dataset."
      ],
      "metadata": {
        "id": "SzOdxER6g3lQ"
      }
    },
    {
      "cell_type": "code",
      "source": [
        "count=0\n",
        "for temp in [0.2, 0.5, 0.7, 1, 1.5]:\n",
        "  count=0\n",
        "  for i in range(0, 5000):\n",
        "\n",
        "    input_sent = \" \".join(train_input_prefix[i])\n",
        "    output = predict_next_word(input_sent, temp)\n",
        "    #print(dataset_output[i])\n",
        "    if(output == train_input_next[i]):\n",
        "      count+=1\n",
        "\n",
        "  print(\"with temp=\", temp)\n",
        "  print(count/5000)\n",
        "\n",
        ""
      ],
      "metadata": {
        "colab": {
          "base_uri": "https://localhost:8080/"
        },
        "id": "1PXavhcGrZws",
        "outputId": "cca531f2-e24c-403c-bb7b-de8b937e9c5e"
      },
      "execution_count": null,
      "outputs": [
        {
          "output_type": "stream",
          "name": "stdout",
          "text": [
            "with temp= 0.2\n",
            "0.3236\n",
            "with temp= 0.5\n",
            "0.316\n",
            "with temp= 0.7\n",
            "0.3004\n",
            "with temp= 1\n",
            "0.2902\n",
            "with temp= 1.5\n",
            "0.2756\n"
          ]
        }
      ]
    },
    {
      "cell_type": "markdown",
      "source": [
        "We use our function and transformer model to generate the next word for our testing dataset with temp=0.2"
      ],
      "metadata": {
        "id": "4IMVuJeGhK9g"
      }
    },
    {
      "cell_type": "code",
      "source": [
        "test_input_prefix = pickle.load(open('/content/DS_6_test_input_prefixList', 'rb'))\n",
        "results=[]\n",
        "for i in range(0, 5000):\n",
        "\n",
        "  input_sent = \" \".join(test_input_prefix[i])\n",
        "  output = predict_next_word(input_sent, 0.2)\n",
        "  results.append(output)\n",
        "\n",
        "print(results)\n"
      ],
      "metadata": {
        "colab": {
          "base_uri": "https://localhost:8080/"
        },
        "id": "cEk7avyqBpM-",
        "outputId": "2de6ce5e-7dff-47e7-c02d-7c4040f07c1d"
      },
      "execution_count": null,
      "outputs": [
        {
          "output_type": "stream",
          "name": "stdout",
          "text": [
            "['e', 'e', 'e', 'a', 'c', 'f', 'c', 'a', 'c', 'e', 'a', 'b', 'a', 'a', 'c', 'e', 'f', 'c', 'e', 'g', 'c', 'e', 'e', 'f', 'd', 'a', 'a', 'c', 'a', 'e', 'g', 'c', 'b', 'e', 'g', 'e', 'e', 'b', 'd', 'a', 'c', 'a', 'e', 'g', 'e', 'b', 'd', 'c', 'g', 'e', 'e', 'e', 'a', 'g', 'b', 'a', 'e', 'e', 'c', 'b', 'e', 'c', 'c', 'e', 'b', 'g', 'a', 'c', 'c', 'a', 'f', 'a', 'a', 'b', 'c', 'b', 'f', 'g', 'k', 'a', 'e', 'e', 'c', 'a', 'k', 'a', 'a', 'b', 'd', 'b', 'f', 'c', 'g', 'e', 'e', 'd', 'b', 'c', 'c', 'd', 'a', 'c', 'c', 'g', 'c', 'c', 'f', 'b', 'c', 'g', 'g', 'g', 'd', 'e', 'c', 'k', 'e', 'a', 'g', 'd', 'a', 'g', 'b', 'g', 'a', 'c', 'k', 'c', 'e', 'e', 'c', 'e', 'a', 'f', 'e', 'e', 'a', 'a', 'e', 'd', 'c', 'c', 'e', 'c', 'a', 'e', 'c', 'k', 'd', 'e', 'c', 'c', 'a', 'e', 'g', 'a', 'g', 'd', 'f', 'b', 'd', 'b', 'e', 'f', 'a', 'a', 'e', 'a', 'c', 'f', 'b', 'c', 'c', 'a', 'f', 'b', 'a', 'f', 'e', 'a', 'a', 'g', 'e', 'f', 'e', 'f', 'g', 'a', 'f', 'e', 'd', 'd', 'e', 'e', 'e', 'g', 'd', '', 'f', 'b', 'c', 'c', 'e', 'f', 'e', 'g', 'c', 'd', 'a', 'd', 'b', 'a', 'c', 'g', 'e', 'k', 'a', 'c', 'g', 'e', 'e', 'c', 'a', 'f', 'g', 'c', 'e', 'k', 'a', 'g', 'a', 'c', 'b', 'c', 'b', 'g', 'f', 'c', 'c', 'a', 'a', 'c', 'e', 'e', 'c', 'g', 'a', 'a', 'c', 'k', 'b', 'a', 'e', 'c', 'e', 'f', 'e', 'b', 'e', 'c', 'g', 'a', 'c', 'e', 'c', 'a', 'c', 'a', 'd', 'b', 'a', 'd', 'e', 'e', 'a', 'd', 'g', 'k', 'a', 'g', 'b', 'b', 'a', 'c', 'g', 'e', 'a', 'c', 'c', 'a', 'a', 'k', 'f', 'c', 'g', 'c', 'b', 'f', 'f', 'c', 'g', 'c', 'a', 'g', 'k', 'f', 'b', 'd', 'c', 'k', 'a', 'e', 'f', 'g', 'a', 'a', 'e', 'a', 'c', 'g', 'e', 'c', 'f', 'd', 'a', 'c', 'e', 'd', 'c', 'a', 'c', 'e', 'a', 'c', 'e', 'c', 'e', 'e', 'c', 'a', 'c', 'e', 'c', 'a', 'c', 'b', 'c', 'e', 'a', 'e', 'c', 'a', 'd', 'c', 'c', 'g', 'c', 'g', 'c', 'a', 'a', 'c', 'c', 'a', 'c', 'a', 'a', 'k', 'a', 'g', 'c', 'a', 'e', 'c', 'a', 'c', 'c', 'e', 'a', 'c', 'f', 'e', 'd', 'e', 'g', 'k', 'c', 'b', 'e', 'c', 'c', 'g', 'e', 'c', 'e', 'c', 'g', 'e', 'f', 'd', 'c', 'b', 'b', 'f', 'g', 'g', 'a', 'e', 'c', 'f', 'e', 'g', 'c', 'c', 'g', 'c', 'a', 'c', 'g', 'e', 'a', 'e', 'a', 'a', 'e', 'd', 'c', 'e', 'f', 'c', 'd', 'c', 'a', 'd', 'b', '', 'e', 'a', 'g', 'k', 'e', 'c', 'a', 'c', 'e', 'e', 'e', 'f', 'c', 'f', 'g', 'e', 'e', 'c', 'k', 'g', 'e', 'c', 'c', 'e', 'a', 'b', 'e', 'a', 'b', 'c', 'f', 'a', 'a', 'e', 'f', 'c', 'e', 'e', 'f', 'a', 'e', 'e', 'a', 'b', 'd', 'c', 'b', 'd', 'd', 'd', 'a', 'a', 'a', 'd', 'a', 'g', 'e', 'd', 'e', 'e', 'c', 'a', 'k', 'a', 'g', 'a', 'd', 'b', 'd', 'b', 'g', 'e', 'f', 'a', 'g', 'f', 'c', 'g', 'g', 'e', 'f', 'e', 'a', 'e', 'f', 'b', 'b', 'a', 'c', 'a', 'e', 'a', 'a', 'a', 'b', 'a', 'e', 'c', 'e', 'a', 'b', 'g', 'g', 'b', 'a', 'c', 'a', 'a', 'a', 'd', 'e', 'e', 'c', 'd', 'e', 'c', 'c', 'k', 'g', 'g', 'd', 'c', 'a', 'a', 'a', 'c', 'a', 'c', 'c', 'b', 'f', 'e', 'c', 'c', 'c', 'b', 'a', 'e', 'k', 'e', 'e', 'c', 'b', 'c', 'a', 'e', 'a', 'b', 'f', 'd', 'g', 'e', 'c', 'b', 'e', 'a', 'b', 'a', 'g', 'c', 'a', 'f', 'g', 'c', 'e', 'e', 'b', 'e', 'g', 'e', 'e', 'a', 'e', 'a', 'g', 'a', 'c', 'e', 'e', 'e', 'd', 'b', 'e', 'g', 'd', 'c', 'c', 'a', 'a', 'g', 'f', 'k', 'c', 'c', 'a', 'a', 'g', 'c', 'c', 'g', 'b', 'c', 'b', 'b', 'f', 'a', 'f', 'a', 'd', 'e', 'a', 'a', 'e', 'c', 'e', 'a', 'g', 'e', 'c', 'g', 'g', 'g', 'e', 'e', 'g', 'b', 'b', 'a', 'c', 'f', 'e', 'c', 'g', 'g', 'g', 'c', 'e', 'a', 'c', 'e', 'g', 'c', 'c', 'e', 'b', 'a', 'e', 'e', 'e', 'c', 'b', 'd', 'd', 'a', 'c', 'a', 'c', 'g', 'b', 'c', 'e', 'e', 'a', 'a', 'f', 'e', 'e', 'c', 'c', 'c', 'e', 'f', 'a', 'd', 'a', 'a', 'e', 'g', 'c', 'e', 'b', 'f', 'f', 'a', 'c', 'b', 'b', 'a', 'f', 'e', 'a', '', 'g', 'c', 'b', 'k', 'd', 'a', 'c', 'a', 'f', 'e', 'g', 'c', 'e', 'c', 'a', 'a', 'b', 'c', 'b', 'a', 'e', 'b', 'c', 'k', 'f', 'g', 'b', 'g', 'e', 'a', 'a', 'a', 'a', 'a', 'd', 'd', 'e', 'a', 'g', 'd', 'e', 'b', 'f', 'c', 'a', 'd', 'a', 'b', 'k', 'c', 'f', 'c', 'a', 'c', 'e', 'a', 'e', 'a', 'a', 'g', 'c', 'a', 'b', 'c', 'e', 'e', 'c', 'a', 'e', 'c', 'f', 'e', 'e', 'f', 'b', 'e', 'c', 'a', 'e', 'e', 'f', 'g', 'e', 'c', 'b', 'c', 'c', 'e', 'c', 'g', 'e', 'a', 'a', 'e', 'a', 'a', 'g', 'a', 'b', 'a', 'g', 'e', 'c', 'c', 'a', 'e', 'a', 'a', 'c', 'd', 'a', 'g', 'f', 'a', 'e', 'e', 'e', 'a', 'c', 'a', 'g', 'e', 'b', 'g', 'a', 'c', 'b', 'f', 'a', 'a', 'k', 'c', 'b', 'c', 'e', 'k', 'a', 'c', 'a', 'f', 'e', 'c', 'c', 'd', 'd', 'c', 'e', 'b', 'a', 'e', 'g', 'c', 'e', 'k', 'a', 'a', 'a', 'f', 'c', 'b', 'a', 'e', 'e', 'g', 'a', 'g', 'a', 'd', 'a', 'f', 'e', 'k', 'c', 'f', 'f', 'a', 'a', 'k', 'e', 'c', 'b', 'c', 'e', 'e', 'e', 'e', 'g', 'c', 'b', 'b', 'a', 'e', 'b', 'e', 'a', 'e', 'b', 'c', 'e', 'c', 'a', 'e', 'c', 'c', 'e', 'b', 'e', 'e', 'e', 'f', 'k', 'a', 'c', 'a', 'c', 'k', 'k', 'f', 'e', 'e', 'b', 'e', 'd', 'c', 'f', 'f', 'k', 'b', 'c', 'k', 'e', 'a', 'g', 'a', 'c', 'e', 'c', 'f', 'c', 'c', 'e', 'g', 'd', 'g', 'c', 'd', 'b', 'e', 'a', 'd', 'c', 'e', 'e', 'd', 'c', 'f', 'd', 'g', 'b', 'd', 'b', 'b', 'b', 'c', 'b', 'e', 'a', 'f', 'e', 'a', 'c', 'e', 'e', 'g', 'e', 'e', 'e', 'b', 'e', 'b', 'a', 'c', 'c', 'e', 'f', 'c', 'c', 'g', 'a', 'g', 'f', 'c', 'a', 'e', 'b', 'e', 'a', 'g', 'e', 'k', 'e', 'e', 'a', 'e', 'a', 'e', 'a', 'd', 'c', 'a', 'c', 'c', 'c', 'a', 'c', 'e', 'b', 'e', 'b', 'a', 'g', 'a', 'f', 'e', 'f', 'e', 'e', 'a', 'c', 'b', 'b', 'f', 'a', 'e', 'e', 'k', 'c', 'e', 'a', 'c', 'a', 'c', 'g', 'e', 'g', 'e', 'a', 'b', 'd', 'b', 'e', 'd', 'a', 'g', 'k', 'a', 'f', 'e', 'g', 'c', 'b', 'e', 'c', 'e', 'd', 'e', 'f', 'f', 'e', 'g', 'd', 'c', 'c', 'e', 'c', 'a', 'g', 'a', 'c', 'a', 'e', 'f', 'e', 'f', 'c', 'f', 'g', 'a', 'a', 'e', 'b', 'd', 'a', 'c', 'b', 'k', 'e', 'd', 'g', 'c', 'f', 'c', 'g', 'a', 'e', 'j', 'a', 'c', 'c', 'a', 'e', 'e', 'c', 'b', 'g', 'g', 'g', 'c', 'g', 'a', 'e', 'd', 'b', 'a', 'c', 'd', 'b', 'a', 'e', 'c', 'a', 'e', 'b', 'a', 'g', 'f', 'a', 'b', 'c', 'e', 'c', 'e', 'd', 'f', 'c', 'e', 'g', 'e', 'a', 'f', 'e', 'd', 'i', 'g', 'a', 'c', 'e', 'c', 'e', 'a', 'a', 'e', 'a', 'g', 'g', 'a', 'a', 'c', 'a', 'e', 'g', 'e', 'c', 'c', 'd', 'e', 'g', 'a', 'e', 'c', 'c', 'b', 'e', 'c', 'e', 'a', 'b', 'k', 'a', 'a', 'a', 'e', 'e', 'a', 'a', 'a', 'f', 'c', 'a', 'a', 'e', 'a', 'e', 'e', 'c', 'e', 'e', 'a', 'a', 'b', 'd', 'g', 'k', 'f', 'k', 'c', 'k', 'a', 'b', 'e', 'e', 'a', 'c', 'e', 'b', 'c', 'c', 'e', 'e', 'd', 'c', 'c', 'a', 'd', 'c', 'a', 'g', 'g', 'a', 'a', 'b', 'c', 'a', 'd', 'e', 'g', 'a', 'a', 'e', 'g', 'c', 'b', 'a', 'd', 'b', 'a', 'c', 'c', 'a', 'd', 'k', 'c', 'c', 'c', 'f', 'a', 'e', 'd', 'b', 'b', 'a', 'e', 'g', 'd', 'g', 'e', 'a', 'e', 'g', 'g', 'k', 'e', 'e', 'c', 'd', 'e', 'b', 'e', 'd', 'c', 'a', 'b', 'd', 'k', 'a', 'e', 'b', 'g', 'c', 'a', 'k', 'c', 'g', 'a', 'e', 'c', 'e', 'b', 'a', 'd', 'a', 'b', 'c', 'a', 'f', 'e', 'c', 'a', 'b', 'c', 'g', 'c', 'c', 'g', 'a', 'a', 'a', 'a', 'f', 'a', 'c', 'a', 'a', 'c', 'c', 'c', 'e', 'c', 'a', 'e', 'a', 'e', 'd', 'c', 'c', 'f', 'c', 'e', 'b', 'a', 'a', 'c', 'd', 'e', 'c', 'b', 'a', 'c', 'e', 'a', 'c', 'b', 'g', 'e', 'e', 'c', 'b', 'a', 'c', 'a', 'f', 'a', 'a', 'c', 'k', 'a', 'a', 'e', 'a', 'f', 'c', 'd', 'e', 'g', 'k', 'b', 'e', 'c', 'e', 'c', 'g', 'g', 'e', 'e', 'f', 'c', 'a', 'a', 'b', 'b', 'a', 'e', 'e', 'a', 'a', 'f', 'g', 'f', 'c', 'c', 'c', 'd', 'e', 'g', 'c', 'a', 'a', 'b', 'e', 'a', 'f', 'f', 'a', 'c', 'a', 'd', 'c', 'a', 'a', 'c', 'a', 'f', 'f', 'a', 'g', 'b', 'a', 'e', 'g', 'c', 'a', 'a', 'g', 'c', 'b', 'a', 'a', 'g', 'g', 'b', 'c', 'g', 'e', 'g', 'e', 'c', 'c', 'f', 'c', 'a', 'b', 'e', 'g', 'a', 'd', 'f', 'g', 'a', 'e', 'a', 'c', 'g', 'b', 'c', 'c', 'b', 'k', 'e', 'g', 'b', 'c', 'b', 'g', 'a', 'g', 'e', 'a', 'k', 'c', 'e', 'a', 'a', 'k', 'c', 'e', 'd', 'b', 'f', 'b', 'c', 'd', 'e', 'f', 'e', 'e', 'a', 'k', 'a', 'e', 'b', 'c', 'c', 'g', 'k', 'b', 'g', 'e', 'a', 'c', 'e', 'a', 'e', 'd', 'a', 'c', 'd', 'c', 'g', 'c', 'c', 'g', 'e', 'e', 'g', 'e', 'e', 'a', 'c', 'g', 'b', 'g', 'c', 'a', 'a', 'a', 'd', 'd', 'b', 'e', 'd', 'd', 'a', 'a', 'g', 'a', 'e', 'b', 'd', 'a', 'a', 'c', 'e', 'f', 'g', 'a', 'c', 'a', 'f', 'f', 'g', 'e', 'b', 'a', 'e', 'e', 'c', 'd', 'e', 'a', 'f', 'a', 'a', 'a', 'a', 'e', 'e', 'c', 'g', 'a', 'g', 'e', 'a', 'd', 'a', 'a', 'd', 'k', 'a', 'f', 'c', 'a', 'e', 'c', 'c', 'e', 'd', 'b', 'b', 'a', 'e', 'c', 'a', 'c', 'd', 'a', 'a', 'e', 'f', 'c', 'f', 'e', 'd', 'a', 'g', 'a', 'd', 'b', 'e', 'g', 'c', 'c', 'c', 'b', 'c', 'c', 'k', 'a', 'c', 'a', 'e', 'a', 'e', 'c', 'e', 'c', 'f', 'b', 'c', 'c', 'a', 'c', 'a', 'a', 'e', 'g', 'f', 'a', 'c', 'c', 'e', 'a', 'e', 'e', 'e', 'e', 'c', 'b', 'c', 'a', 'g', 'a', 'c', 'e', 'b', 'c', 'd', 'b', 'k', 'f', 'e', 'e', 'a', 'b', 'g', 'f', 'f', 'a', 'a', 'e', 'f', 'b', 'c', 'e', 'c', 'f', 'i', 'c', 'f', 'e', 'b', 'a', 'f', 'c', 'd', 'c', 'a', 'c', 'c', 'a', 'c', 'g', 'g', 'g', 'b', 'e', 'e', 'e', 'e', 'f', 'd', 'b', 'c', 'd', 'a', 'g', 'k', 'e', 'c', 'c', 'e', 'c', 'e', 'f', 'c', 'a', 'a', 'e', 'a', 'c', 'c', 'e', 'e', 'f', 'c', 'g', 'c', 'd', 'c', 'a', 'f', 'a', 'b', 'e', 'e', 'a', 'c', 'b', 'g', 'a', 'e', 'g', 'c', 'c', 'a', 'a', 'a', 'c', 'g', 'c', 'b', 'e', 'e', 'g', 'a', 'c', 'e', 'a', 'g', 'g', 'k', 'f', 'e', 'e', 'a', 'a', 'c', 'd', 'e', 'a', 'c', 'c', 'a', 'b', 'c', 'a', 'k', 'e', 'c', 'a', 'f', 'e', 'e', 'c', 'd', 'e', 'c', 'c', 'c', 'a', 'b', 'e', 'g', 'a', 'g', 'e', 'e', 'g', 'a', 'b', 'b', 'e', 'e', 'g', 'e', 'e', 'a', 'a', 'c', 'e', 'a', 'a', 'd', 'a', 'e', 'e', 'g', 'e', 'e', 'e', 'c', 'e', 'e', 'c', 'f', 'g', 'a', 'g', 'a', 'a', 'e', 'a', 'd', 'c', 'a', 'c', 'a', 'a', 'b', 'g', 'b', 'e', 'b', 'a', 'e', 'c', 'g', 'f', 'c', 'c', 'b', 'c', 'c', 'e', 'a', 'g', 'e', 'c', 'b', 'e', 'a', 'e', 'b', 'g', 'g', 'k', 'b', 'c', 'e', 'c', 'a', 'e', 'g', 'c', 'c', 'e', 'e', 'k', 'a', 'e', 'c', 'a', 'g', 'c', 'g', 'a', 'a', 'b', 'c', 'a', 'e', 'e', 'a', 'f', 'd', 'e', 'e', 'f', 'b', 'a', 'b', 'e', 'f', 'd', 'c', 'e', 'g', 'f', 'a', 'f', 'a', 'e', 'k', 'g', 'a', 'a', 'e', 'c', 'd', 'e', 'a', 'g', 'g', 'e', 'c', 'k', 'e', 'g', 'e', 'c', 'e', 'c', 'a', 'a', 'e', 'c', 'c', 'f', 'k', 'b', 'g', 'c', 'g', 'd', 'g', 'a', 'a', 'e', 'c', 'b', 'c', 'a', 'g', 'a', 'c', 'a', 'a', 'f', 'g', 'g', 'e', 'b', 'k', 'e', 'k', 'e', 'f', 'c', 'a', 'a', 'a', 'a', 'e', 'g', 'c', 'c', 'e', 'a', 'd', 'a', 'c', 'a', 'a', 'e', 'k', 'd', 'g', 'e', 'e', 'd', 'b', 'a', 'c', 'g', 'a', 'k', 'g', 'c', 'a', 'c', 'e', 'c', 'a', 'a', 'a', 'k', 'a', 'b', 'e', 'c', 'e', 'k', 'a', 'b', 'e', 'c', 'c', 'a', 'c', 'a', 'c', 'c', 'g', 'c', 'f', 'a', 'e', 'g', 'e', 'a', 'a', 'g', 'e', 'a', 'b', 'a', 'a', 'c', 'e', 'c', 'g', 'e', 'b', 'a', 'f', 'g', 'c', 'f', 'b', 'a', 'k', 'e', 'f', 'b', 'd', 'e', 'f', 'a', 'c', 'b', 'e', 'f', 'g', 'k', 'a', 'd', 'c', 'b', 'g', 'b', 'k', 'a', 'c', 'c', 'a', 'a', 'e', 'c', 'c', '[UNK]', 'b', 'f', 'b', 'e', 'g', 'g', 'b', 'c', 'b', 'c', 'g', 'c', 'a', 'b', 'b', 'a', 'f', 'c', 'g', 'e', 'd', 'g', 'k', 'a', 'f', 'a', 'b', 'c', 'g', 'a', 'c', 'd', 'e', 'a', 'c', 'b', 'b', 'e', 'a', 'c', 'e', 'g', 'g', 'f', 'd', 'e', 'a', 'd', 'd', 'c', 'a', 'c', 'a', 'g', 'f', 'c', 'd', 'd', 'g', 'a', 'g', 'a', 'b', 'e', 'b', 'g', 'g', 'a', 'c', 'k', 'b', 'a', 'c', 'a', 'g', 'a', 'b', 'c', 'f', 'a', 'a', 'c', 'b', 'a', 'a', 'a', 'b', 'c', 'a', 'b', 'b', 'b', 'g', 'c', 'g', 'c', 'b', 'a', 'c', 'k', 'd', 'a', 'b', 'd', 'a', 'c', 'a', 'f', 'c', 'd', 'b', 'a', 'c', 'e', 'd', 'g', 'e', 'a', 'e', 'a', 'a', 'a', 'c', 'c', 'c', 'd', 'c', 'a', 'e', 'b', 'a', 'b', 'c', 'a', 'f', 'f', 'c', 'c', 'd', 'c', 'a', 'c', 'b', 'c', 'a', 'a', 'f', 'g', 'c', 'e', 'b', 'c', 'b', 'b', 'c', 'c', 'g', 'a', 'e', 'c', 'a', 'e', 'g', 'b', 'f', 'b', 'a', 'a', 'g', 'd', 'c', 'c', 'c', 'g', 'f', 'f', 'f', 'b', 'e', 'a', 'b', 'c', 'f', 'a', 'c', 'b', 'c', 'e', 'e', 'a', 'c', 'd', 'e', 'a', 'd', 'b', 'e', 'g', 'a', 'a', 'g', 'e', 'c', 'a', 'e', 'a', 'a', 'g', 'e', 'a', 'e', 'c', 'c', 'e', 'g', 'd', 'c', 'c', 'a', 'f', 'c', 'a', 'c', 'b', 'a', 'f', 'a', 'a', 'g', 'g', 'a', 'e', 'b', 'e', 'f', 'a', 'g', 'k', 'a', 'g', 'f', 'a', 'e', 'e', 'c', 'g', 'b', 'a', 'e', 'c', 'c', 'k', 'c', 'b', 'b', 'k', 'b', 'a', 'e', 'a', 'a', 'b', 'd', 'a', 'a', 'b', 'c', 'c', 'g', 'i', 'e', 'g', 'a', 'a', 'c', 'c', 'c', 'b', 'g', 'a', 'f', 'c', 'e', 'e', 'a', 'b', 'd', 'c', 'a', 'd', 'b', 'g', 'a', 'c', 'a', 'e', 'a', 'a', 'f', 'a', 'c', 'b', 'f', 'a', 'c', 'c', 'c', 'a', 'c', 'b', 'g', 'd', 'c', 'e', 'b', 'd', 'c', 'd', 'g', 'e', 'a', 'a', 'a', 'a', 'c', 'c', 'c', 'c', 'c', 'c', 'a', 'b', 'e', 'c', 'b', 'a', 'b', 'a', 'a', 'f', 'e', 'c', 'e', 'g', 'k', 'c', 'k', 'e', 'a', 'k', 'f', 'a', 'a', 'f', 'd', 'e', 'a', 'd', 'e', 'b', 'a', 'c', 'e', 'e', 'c', 'e', 'c', 'e', 'e', 'e', 'd', 'c', 'c', 'e', 'c', 'a', 'a', 'c', 'g', 'a', 'a', 'g', 'c', 'b', 'e', 'a', 'k', 'e', 'c', 'b', 'e', 'c', 'd', 'c', 'c', 'c', 'e', 'c', 'a', 'e', 'c', 'c', 'a', 'k', 'e', 'a', 'c', 'a', 'd', 'g', 'e', 'e', 'g', 'f', 'b', 'e', 'f', 'g', 'a', 'e', 'g', 'a', 'c', 'c', 'e', 'k', 'e', 'f', 'g', 'c', 'a', 'a', 'c', 'a', 'e', 'd', 'c', 'c', 'a', 'f', 'a', 'b', 'f', 'k', 'e', 'e', 'e', 'c', 'a', 'a', 'c', 'c', 'c', 'c', 'f', 'a', 'e', 'e', 'd', 'g', 'e', 'e', 'e', 'k', 'e', 'b', 'k', 'a', 'a', 'f', 'e', 'k', 'd', 'a', 'c', 'g', 'e', 'a', 'e', 'c', 'e', 'a', 'a', 'b', 'g', 'a', 'd', 'g', 'd', 'c', 'd', 'c', 'a', 'e', 'c', 'a', 'c', 'a', 'b', 'g', 'a', 'b', 'a', 'a', 'e', 'a', 'b', 'c', 'c', 'k', 'a', 'e', 'a', 'a', 'e', 'c', 'a', 'd', 'g', 'e', 'b', 'a', 'c', 'd', 'd', 'g', 'e', 'b', 'e', 'a', 'g', 'a', 'a', 'g', 'c', 'a', 'a', 'b', 'e', 'a', 'e', 'c', 'g', 'f', 'd', 'c', 'k', 'e', 'c', 'g', 'c', 'g', 'g', 'e', 'e', 'e', 'e', 'f', 'c', 'd', 'a', 'a', 'a', 'd', 'd', 'e', 'g', 'e', 'a', 'a', 'c', 'a', 'e', 'a', 'e', 'c', 'e', 'c', 'a', 'a', 'e', 'g', 'd', 'g', 'b', 'k', 'b', 'f', 'a', 'a', 'a', 'c', 'b', 'c', 'c', 'k', 'g', 'e', 'e', 'b', 'a', 'f', 'c', 'e', 'a', 'e', 'e', 'c', 'a', 'e', 'c', 'b', 'c', 'e', 'c', 'e', 'g', 'd', 'e', 'a', 'a', 'g', 'e', 'b', 'd', 'c', 'c', 'c', 'a', 'c', 'c', 'a', 'k', 'd', 'a', 'a', 'b', 'c', 'e', 'g', 'd', 'a', 'b', 'e', '', 'k', 'a', 'g', 'e', 'b', 'd', 'a', 'e', 'b', 'c', 'c', 'a', 'g', 'f', 'a', 'g', 'b', 'd', 'd', 'f', 'e', 'a', 'd', 'a', 'a', 'e', 'e', 'c', 'c', 'e', 'c', 'b', 'e', 'e', 'a', 'a', 'k', 'a', 'g', 'c', 'e', 'b', 'a', 'e', 'a', 'g', 'f', 'b', 'c', 'g', 'b', 'b', 'e', 'c', 'a', 'f', 'a', 'c', 'a', 'c', 'g', 'e', 'c', 'a', 'f', 'e', 'g', 'a', 'd', 'b', 'g', 'e', 'e', 'e', 'k', 'g', 'e', 'a', 'c', 'a', 'c', 'a', 'c', 'b', 'a', 'a', 'e', 'a', 'b', 'f', 'e', 'c', 'b', 'e', 'g', 'e', 'g', 'c', 'f', 'e', 'f', 'a', 'a', 'e', 'a', 'a', 'e', 'd', 'b', 'a', 'k', 'g', 'g', 'd', 'e', 'e', 'g', 'a', 'f', 'a', 'e', 'e', 'k', 'd', 'a', 'f', 'e', 'c', 'f', 'a', 'c', 'k', 'g', 'a', 'f', 'b', 'e', 'g', 'b', 'f', 'e', 'e', 'c', 'c', 'e', 'g', 'e', 'a', 'f', 'e', 'e', 'e', 'c', 'c', 'e', 'e', 'k', 'e', 'a', 'd', 'c', 'a', 'b', 'g', 'a', 'e', 'a', 'c', 'g', 'f', 'a', 'c', 'e', 'a', 'g', 'c', 'c', 'f', 'b', 'e', 'a', 'a', 'e', 'k', 'c', 'g', 'e', 'e', 'e', 'c', 'g', 'g', 'a', 'a', 'a', 'c', 'e', 'f', 'b', 'c', 'e', 'd', 'c', 'e', 'a', 'c', 'k', 'd', 'k', 'a', 'g', 'a', 'e', 'c', 'e', 'b', 'b', 'c', 'c', 'a', 'g', 'c', 'a', 'd', 'e', 'g', 'c', 'd', 'd', 'c', 'a', 'e', 'a', 'c', 'f', 'e', 'g', 'k', 'e', 'f', 'd', 'a', 'k', 'c', 'e', 'g', 'c', 'c', 'g', 'e', 'd', 'a', 'd', 'e', 'e', 'g', 'b', 'b', 'g', 'f', 'a', 'a', 'd', 'a', 'e', 'c', 'f', 'c', 'g', 'e', 'b', 'c', 'a', 'b', 'e', 'c', 'e', 'b', 'c', 'd', 'a', 'c', 'c', 'c', 'a', 'e', 'a', 'a', 'e', 'a', 'a', 'c', 'c', 'c', 'd', 'c', 'a', 'b', 'c', 'b', 'd', 'e', 'a', 'e', 'a', 'g', 'e', 'c', 'f', 'a', 'g', 'e', 'a', 'a', 'e', 'a', 'a', 'e', 'k', 'b', 'c', 'a', 'f', 'd', 'e', 'e', 'e', 'f', 'e', 'c', 'g', 'b', 'g', 'a', 'e', 'g', 'f', 'e', 'a', 'f', 'c', 'g', 'b', 'g', 'c', 'c', 'a', 'f', 'c', 'c', 'g', 'k', 'c', 'a', 'e', 'f', 'c', 'b', 'e', 'f', 'e', 'f', 'e', 'e', 'd', 'a', 'a', 'e', 'c', 'a', 'c', 'e', 'e', 'e', 'g', 'a', 'd', 'f', 'a', 'g', 'c', 'a', 'a', 'a', 'd', 'f', 'a', 'g', 'c', 'd', 'c', 'b', 'e', 'a', 'c', 'e', 'e', 'c', 'c', 'e', 'f', 'e', 'g', 'd', 'c', 'b', 'a', 'e', 'e', 'a', 'g', 'd', 'b', 'c', 'e', 'e', 'c', 'e', 'c', 'b', 'g', 'a', 'e', 'b', 'a', 'c', 'e', 'c', 'a', 'e', 'f', 'g', 'e', 'g', 'c', 'f', 'a', 'a', 'e', 'b', 'f', 'g', 'c', 'b', 'f', 'f', 'g', 'a', 'e', 'a', 'd', 'c', 'f', 'c', 'c', 'b', 'b', 'g', 'f', 'c', 'a', 'g', 'k', 'b', 'e', 'g', 'b', 'c', 'f', 'f', 'b', 'c', 'k', 'e', 'a', 'e', '[UNK]', 'd', 'e', 'k', 'k', 'c', 'e', 'f', 'e', 'g', 'g', 'a', 'e', 'c', 'e', 'j', 'c', 'k', 'c', 'c', 'c', 'e', 'b', 'f', 'e', 'a', 'e', 'g', 'e', 'e', 'j', 'd', 'c', 'k', 'd', 'd', 'f', 'f', 'a', 'c', 'd', 'f', 'g', 'a', 'e', 'd', 'a', 'c', 'c', 'c', 'a', 'g', 'c', 'b', 'e', 'j', 'a', 'c', 'd', 'a', 'f', 'f', 'e', 'e', 'c', 'b', 'a', 'e', 'g', 'g', 'f', 'c', 'c', 'g', 'e', 'f', 'b', 'a', 'g', 'a', 'a', 'a', 'e', 'c', 'f', 'f', 'e', 'g', 'd', 'c', 'a', 'c', 'c', 'k', 'k', 'e', 'b', 'g', 'b', 'e', 'a', 'c', 'a', 'g', 'a', 'a', 'e', 'd', 'c', 'c', 'b', 'e', 'c', 'g', 'g', 'b', 'a', 'g', 'a', 'a', 'c', 'f', 'e', 'e', 'e', 'a', 'c', 'c', 'd', 'd', 'j', 'd', 'a', 'c', 'e', 'e', 'd', 'f', 'd', 'd', 'e', 'b', 'b', 'g', 'g', 'f', 'b', 'e', 'b', 'a', 'a', 'a', 'a', 'c', 'k', 'b', 'b', 'b', 'c', 'f', 'a', 'c', 'e', 'c', 'a', 'g', 'a', 'g', 'a', 'g', 'f', 'g', 'e', 'c', 'e', 'a', 'f', 'e', 'a', 'b', 'g', 'k', 'b', 'd', 'e', 'b', 'e', 'a', 'a', 'c', 'e', 'a', 'a', 'a', 'a', 'e', 'f', 'e', 'f', 'a', 'c', 'g', 'g', 'g', '', 'f', 'a', 'f', 'a', 'g', 'e', 'k', 'e', 'e', 'c', 'e', 'e', 'g', 'c', 'e', 'c', 'c', 'c', 'a', 'c', 'a', 'a', 'c', 'a', 'a', 'c', 'a', 'a', 'e', 'c', 'a', 'e', 'a', 'd', 'e', 'k', 'a', 'c', 'b', 'c', 'a', 'a', 'g', 'e', 'd', 'c', 'd', 'a', 'a', 'a', 'f', 'e', 'a', 'e', 'g', 'g', 'e', 'b', 'a', 'a', 'd', 'd', 'a', 'e', 'c', 'g', 'g', 'c', 'e', 'e', 'g', 'a', 'd', 'a', 'c', 'a', 'c', 'g', 'f', 'b', 'g', 'a', 'f', 'c', 'k', 'b', 'b', 'a', 'f', 'b', 'e', 'e', 'e', 'b', 'c', 'e', 'a', 'e', 'd', 'a', 'a', 'a', 'c', 'a', 'c', 'a', 'c', 'e', 'a', 'a', 'g', 'k', 'b', 'f', 'e', 'a', 'c', 'e', 'e', 'e', 'c', 'c', 'e', 'a', 'a', 'e', 'b', 'g', 'a', 'e', 'e', 'g', 'a', 'c', 'd', 'e', 'a', 'a', 'c', 'c', 'e', 'g', 'c', 'c', 'a', 'c', 'e', 'a', 'g', 'e', 'b', 'c', 'a', 'a', 'k', 'a', 'a', 'e', 'a', 'a', 'g', 'b', 'd', 'a', 'f', 'g', 'a', 'a', 'g', 'c', 'a', 'a', 'e', 'c', 'c', 'e', 'g', 'b', 'f', 'g', 'e', 'a', 'e', 'e', 'e', 'a', 'c', 'g', 'c', 'b', 'a', 'c', 'e', 'd', 'a', 'e', 'e', 'c', 'c', 'b', 'c', 'e', 'e', 'a', 'k', 'e', 'e', 'a', 'c', 'e', 'c', 'b', 'f', 'e', 'a', 'a', 'k', 'g', 'b', 'b', 'a', 'e', 'c', 'c', 'a', 'g', 'b', 'a', 'e', 'c', 'a', 'c', 'd', 'c', 'e', 'a', 'b', 'g', 'a', 'd', 'c', 'e', 'f', 'c', 'c', 'c', 'g', 'e', 'g', 'c', 'c', 'c', 'a', 'e', 'a', 'e', 'c', 'a', 'c', 'c', 'e', 'g', 'a', 'd', 'c', 'a', 'd', 'c', 'a', 'g', 'a', 'b', 'e', 'd', 'a', 'c', 'a', 'e', 'f', 'f', 'a', 'e', 'b', 'g', 'a', 'a', 'a', 'e', 'g', 'b', 'g', 'a', '', 'a', 'a', 'e', 'b', 'a', 'a', 'g', 'a', 'b', 'd', 'a', 'a', 'e', 'e', 'k', 'a', 'a', 'd', 'c', 'g', 'e', 'a', 'c', 'e', 'a', 'b', 'c', 'c', 'f', 'd', 'e', 'c', 'g', 'e', 'g', 'a', 'e', 'b', 'a', 'c', 'e', 'b', 'g', 'c', 'g', 'f', 'a', 'a', 'k', 'e', 'g', 'e', 'g', 'c', 'g', 'b', 'g', 'b', 'f', 'f', 'b', 'b', 'c', 'd', 'e', 'g', 'b', 'e', 'e', 'g', 'b', 'c', 'd', 'c', 'a', 'g', 'g', 'e', 'd', 'c', 'd', 'a', 'c', 'e', 'c', 'd', 'b', 'a', 'e', 'c', 'c', 'e', 'a', 'c', 'k', 'g', 'g', 'c', 'c', 'g', 'a', 'c', 'b', 'g', 'b', 'a', 'e', 'g', 'b', 'e', 'e', 'g', 'c', 'c', 'e', 'd', 'd', 'g', 'b', 'c', 'b', 'a', 'a', 'e', 'c', 'k', 'd', 'g', 'b', 'b', 'c', 'g', 'b', 'c', 'c', 'd', 'e', 'f', 'a', 'e', 'a', 'a', 'c', 'c', 'd', 'e', 'a', 'c', 'c', 'a', 'k', 'e', 'g', 'e', 'c', 'c', 'a', 'e', 'e', 'a', 'b', 'e', 'g', 'e', 'k', 'e', 'd', 'e', 'b', 'f', 'c', 'c', 'g', 'c', 'e', 'g', 'f', 'd', 'f', 'e', 'c', 'g', 'e', 'f', 'b', 'k', 'e', 'f', 'e', 'c', 'a', 'c', 'b', 'a', 'a', 'a', 'g', 'b', 'c', 'f', 'e', 'k', 'd', 'f', 'a', 'g', 'b', 'e', 'a', 'k', 'd', 'e', 'a', 'a', 'c', 'g', 'f', 'g', 'a', 'b', 'c', 'b', 'c', 'c', 'c', 'c', 'g', 'e', 'k', 'c', 'b', 'd', 'a', 'c', 'd', 'd', 'd', 'g', 'a', 'g', 'a', 'e', 'a', 'a', 'g', 'g', 'c', 'e', 'a', 'c', 'e', 'c', 'e', 'e', 'g', 'a', 'g', 'c', 'c', 'd', 'd', 'g', 'a', 'c', 'f', 'i', 'b', 'c', 'g', 'e', 'd', 'a', 'a', 'c', 'f', 'b', 'e', 'd', 'e', 'c', 'c', 'a', 'b', 'g', 'a', 'c', 'b', 'k', 'a', 'e', 'a', 'c', 'c', 'c', 'g', 'b', 'c', 'f', 'b', 'a', 'c', 'd', 'b', 'c', 'e', 'b', 'g', 'g', 'a', 'c', 'b', 'a', 'e', 'a', 'c', 'a', 'c', 'e', 'e', 'k', 'b', 'e', 'd', 'c', 'f', 'e', 'a', 'c', 'c', 'g', 'c', 'a', 'a', 'c', 'd', 'g', 'd', 'd', 'e', 'f', 'c', 'c', 'e', 'a', 'c', 'c', 'g', 'c', 'f', 'e', 'd', 'c', 'e', 'd', 'c', 'a', 'a', 'a', 'c', 'e', 'c', 'a', 'c', 'g', 'f', 'c', 'c', 'c', 'e', 'a', 'a', 'f', 'b', 'a', 'c', 'a', 'd', 'f', 'a', 'c', 'a', 'b', 'b', 'b', 'a', 'c', 'a', 'g', 'a', 'b', 'c', 'e', 'g', 'b', 'a', 'g', 'c', 'c', 'f', 'a', 'a', 'a', 'g', 'd', 'a', 'g', 'b', 'd', 'a', 'e', 'e', 'e', 'b', 'b', 'a', 'k', 'd', 'f', 'a', 'a', 'f', 'c', 'c', 'a', 'c', 'c', 'c', 'a', 'e', 'e', 'a', 'g', 'g', 'g', 'a', 'a', 'c', 'b', 'c', 'c', 'c', 'k', 'c', 'f', 'e', 'e', 'e', 'c', 'c', 'b', 'd', 'e', 'e', 'k', 'b', 'a', 'e', 'b', 'b', 'c', 'c', 'a', 'e', 'c', 'a', 'a', 'e', 'g', 'g', 'a', 'e', 'a', 'g', 'a', 'c', 'c', 'e', 'c', 'c', 'a', 'g', 'c', 'e', 'a', 'e', 'a', 'k', 'a', 'b', 'a', 'a', 'a', 'g', 'c', 'g', 'b', 'd', 'd', 'd', 'a', 'a', 'e', 'b', 'g', 'e', 'b', 'f', 'e', 'g', 'f', 'g', 'c', 'a', 'c', 'c', 'c', 'a', 'b', 'a', 'g', 'e', 'a', 'g', 'b', 'c', 'd', 'f', 'e', 'c', 'k', 'f', 'g', 'a', 'd', 'e', 'c', 'a', 'a', 'c', 'a', 'd', 'c', 'c', 'g', 'g', 'd', 'c', 'e', 'a', 'a', 'a', 'e', 'c', 'c', 'b', 'a', 'b', 'c', 'c', 'g', 'e', 'b', 'e', 'b', 'a', 'e', 'b', 'b', 'e', 'e', 'a', 'c', 'e', 'c', 'a', 'g', 'a', 'c', 'e', 'a', 'a', 'e', 'g', 'g', 'e', 'a', 'e', 'd', 'g', 'c', 'c', 'e', 'c', 'g', 'i', 'a', 'a', 'k', 'e', 'a', 'c', 'b', 'b', 'a', 'e', 'b', 'e', 'a', 'c', 'c', 'b', 'a', 'e', 'd', 'f', 'd', 'c', 'a', 'c', 'd', 'e', 'g', 'c', 'g', 'a', 'f', 'e', 'd', 'a', 'a', 'g', 'g', 'k', 'a', 'a', 'e', 'a', 'a', 'c', 'd', 'd', 'c', 'a', 'a', 'c', 'a', 'f', 'c', 'd', 'c', 'b', 'e', 'a', 'e', 'c', 'c', 'g', 'd', 'f', 'b', 'g', 'e', 'd', 'c', 'a', 'e', 'k', 'c', 'c', 'g', 'a', 'a', 'e', 'e', 'g', 'e', 'a', 'c', 'a', 'c', 'e', 'e', 'a', 'a', 'a', 'e', 'b', 'b', 'f', 'c', 'b', 'e', 'a', 'f', '', 'c', 'c', 'b', 'f', 'b', 'e', 'e', 'e', 'd', 'c', 'c', 'a', 'g', 'c', 'e', 'b', 'f', 'g', 'd', 'g', 'f', 'c', 'a', 'c', 'c', 'a', 'd', 'g', 'a', 'e', 'g', 'b', 'g', 'k', 'd', 'a', 'a', 'c', 'e', 'e', 'e', 'a', 'b', 'c', 'b', 'c', 'b', 'a', 'c', 'e', 'c', 'k', 'a', 'g', 'g', 'a', 'e', 'c', 'c', 'a', 'k', 'b', 'b', 'c', 'c', 'f', 'e', 'a', 'e', 'a', 'c', 'c', 'e', 'a', 'c', 'e', 'd', 'f', 'd', 'c', 'g', 'b', 'f', 'c', 'k', 'c', 'k', 'e', 'e', 'g', 'e', 'a', 'c', 'f', 'd', 'a', 'b', 'e', 'f', 'g', 'a', 'e', 'g', 'f', 'k', 'a', 'e', 'c', 'e', 'e', 'c', 'e', 'a', 'g', 'f', 'c', 'a', 'c', 'e', 'e', 'a', 'c', 'a', 'e', 'f', 'b', 'd', 'a', 'g', 'f', 'a', 'f', 'a', 'c', 'e', 'e', 'd', 'e', 'e', 'e', 'd', 'e', 'e', 'b', 'c', 'e', 'a', 'g', 'a', 'f', 'a', 'c', 'e', 'c', 'c', 'a', 'a', 'c', 'a', 'e', 'c', 'a', 'g', 'a', 'g', 'a', 'a', 'g', 'c', 'c', 'a', 'g', 'b', 'e', 'b', 'e', 'a', 'a', 'a', 'e', 'f', 'c', 'c', 'a', 'e', 'e', 'e', 'f', 'f', 'f', 'c', 'e', 'a', 'c', 'd', 'c', 'a', 'a', 'a', 'a', 'c', 'd', 'g', 'e', 'g', 'k', 'c', 'a', 'e', 'c', 'e', 'd', 'g', 'a', 'd', 'e', 'g', 'a', 'g', 'c', 'd', 'g', 'e', 'c', 'd', 'e', 'a', 'b', 'e', 'c', 'e', 'g', 'a', 'd', 'c', 'c', 'e', 'e', 'a', 'c', 'c', 'a', 'a', 'd', 'a', 'c', 'e', 'a', 'e', 'd', 'e', 'g', 'c', 'd', 'c', 'a', 'a', 'a', 'e', 'd', 'e', 'b', 'c', 'g', 'e', 'g', 'e', 'b', 'k', 'g', 'e', 'c', 'c', 'e', 'd', 'b', 'a', 'c', 'k', 'a', 'a', 'b', 'g', 'a', 'c', 'g', 'c', 'a', 'a', 'd', 'e', 'g', 'e', 'a', 'a', 'e', 'e', 'e', 'a', 'e', 'a', 'f', 'g', 'c', 'e', 'f', 'c', 'a', 'e', 'a', 'e', 'd', 'e', 'g', 'b', 'd', 'e', 'a', 'c', 'b', 'f', 'b', 'e', 'g', 'a', 'a', 'c', 'c', 'g', 'c', 'b', 'e', 'b', 'e', 'e', 'd', 'e', 'f', 'a', 'a', 'e', 'c', 'a', 'a', 'a', 'e', 'g', 'a', 'k', 'b', 'f', 'k', 'g', 'a', 'k', 'e', 'c', 'b', 'a', 'a', 'b', 'e', 'a', 'e', 'e', 'a', 'g', 'd', 'a', 'g', 'k', 'd', 'e', 'a', 'a', 'c', 'e', 'a', 'b', 'e', 'a', 'b', 'e', 'a', 'e', 'a', 'e', 'f', 'a', 'e', 'e', 'a', 'g', 'b', 'e', 'c', 'f', 'e', 'g', 'c', 'a', 'c', 'f', 'e', 'c', 'f', 'f', 'g', 'a', 'e', 'e', 'g', 'a', 'f', 'b', 'e', 'e', 'g', 'g', 'f', 'c', 'g', 'b', 'g', 'e', 'd', 'g', 'c', 'f', 'b', 'e', 'g', 'c', 'a', 'e', 'f', 'f', 'e', 'b', 'e', 'e', 'f', 'f', 'c', 'b', 'c', 'c', 'e', 'f', 'c', 'a', 'k', 'f', 'k', 'a', 'e', 'd', 'e', 'a', 'k', 'a', 'b', 'e', 'd', 'f', 'e', 'a', 'b', 'g', 'd', 'f', 'c', 'e', 'd', 'e', 'a', 'd', 'c', 'b', 'e', 'a', 'a', 'e', 'b', 'd', 'b', 'a', 'c', 'd', 'c', 'a', 'b', 'f', 'e', 'c', 'e', 'e', 'c', 'a', 'g', 'e', 'k', 'b', 'g', 'b', 'e', 'e', 'c', 'd', 'c', 'g', 'b', 'f', 'g', 'b', 'c', 'a', 'e', 'b', 'e', 'a', 'a', 'a', 'c', 'e', 'a', 'e', 'e', 'c', 'c', 'g', 'a', 'a', 'g', 'c', 'g', 'a', 'e', 'b', 'a', 'e', 'e', 'a', 'c', 'b', 'a', 'c', 'a', 'g', 'd', 'e', 'f', 'c', 'd', 'a', 'a', 'c', 'd', 'g']\n"
          ]
        }
      ]
    },
    {
      "cell_type": "code",
      "source": [
        "print(len(results))\n",
        "print(train_input_next)"
      ],
      "metadata": {
        "colab": {
          "base_uri": "https://localhost:8080/"
        },
        "id": "kyT5-vNREGSf",
        "outputId": "3b913f07-7b38-49ef-c736-d6b20b6c94dd"
      },
      "execution_count": null,
      "outputs": [
        {
          "output_type": "stream",
          "name": "stdout",
          "text": [
            "5000\n",
            "['a', 'c', 'k', 'g', 'd', 'c', 'd', 'e', 'a', 'e', 'a', 'd', 'c', 'e', 'g', 'g', 'a', 'g', 'a', 'f', 'a', 'a', 'b', 'g', 'b', 'd', 'f', 'f', 'b', 'k', 'a', 'b', 'b', 'c', 'e', 'i', 'f', 'b', 'f', 'e', 'j', 'f', 'a', 'c', 'a', 'd', 'b', 'b', 'k', 'c', 'b', 'b', 'd', 'd', 'j', 'c', 'g', 'f', 'b', 'd', 'b', 'c', 'g', 'd', 'f', 'b', 'b', 'b', 'c', 'a', 'b', 'b', 'a', 'a', 'c', 'd', 'a', 'b', 'g', 'a', 'c', 'g', 'a', 'a', 'c', 'c', 'g', 'e', 'i', 'a', 'g', 'd', 'a', 'c', 'a', 'g', 'b', 'c', 'c', 'e', 'a', 'a', 'j', 'a', 'a', 'e', 'd', 'a', 'e', 'f', 'a', 'a', 'd', 'a', 'g', 'h', 'a', 'a', 'f', 'f', 'b', 'd', 'd', 'd', 'c', 'c', 'f', 'a', 'a', 'b', 'e', 'g', 'f', 'a', 'f', 'f', 'a', 'b', 'a', 'f', 'a', 'f', 'b', 'd', 'f', 'b', 'a', 'b', 'a', 'b', 'e', 'e', 'a', 'a', 'd', 'b', 'c', 'a', 'f', 'b', 'f', 'a', 'a', 'a', 'f', 'j', 'e', 'h', 'f', 'b', 'd', 'a', 'e', 'c', 'd', 'g', 'c', 'a', 'f', 'b', 'h', 'a', 'c', 'k', 'e', 'c', 'c', 'i', 'e', 'e', 'e', 'a', 'j', 'b', 'k', 'g', 'g', 'c', 'k', 'f', 'c', 'd', 'f', 'b', 'a', 'b', 'c', 'b', 'b', 'b', 'f', 'a', 'e', 'e', 'g', 'k', 'b', 'a', 'j', 'b', 'd', 'h', 'g', 'c', 'b', 'f', 'b', 'a', 'a', 'g', 'd', 'b', 'b', 'c', 'f', 'f', 'f', 'a', 'a', 'a', 'e', 'd', 'e', 'e', 'e', 'e', 'c', 'g', 'g', 'a', 'a', 'k', 'd', 'c', 'f', 'a', 'k', 'g', 'h', 'e', 'c', 'a', 'a', 'g', 'g', 'g', 'j', 'k', 'a', 'a', 'c', 'b', 'b', 'e', 'e', 'c', 'k', 'd', 'e', 'f', 'a', 'b', 'e', 'a', 'b', 'i', 'b', 'c', 'f', 'c', 'c', 'k', 'e', 'i', 'd', 'c', 'a', 'f', 'd', 'b', 'e', 'e', 'c', 'a', 'd', 'g', 'g', 'g', 'g', 'b', 'c', 'f', 'c', 'b', 'b', 'g', 'k', 'e', 'b', 'a', 'e', 'c', 'b', 'c', 'a', 'f', 'k', 'g', 'a', 'a', 'b', 'a', 'd', 'b', 'a', 'a', 'f', 'e', 'd', 'f', 'f', 'a', 'b', 'c', 'f', 'e', 'g', 'e', 'f', 'f', 'k', 'f', 'a', 'a', 'b', 'a', 'd', 'a', 'h', 'k', 'b', 'b', 'a', 'c', 'g', 'g', 'i', 'a', 'c', 'e', 'f', 'd', 'b', 'e', 'a', 'a', 'g', 'k', 'b', 'f', 'd', 'a', 'g', 'e', 'b', 'b', 'b', 'a', 'b', 'a', 'd', 'd', 'b', 'a', 'g', 'k', 'e', 'd', 'c', 'c', 'e', 'c', 'a', 'a', 'd', 'c', 'k', 'g', 'a', 'b', 'g', 'g', 'b', 'e', 'b', 'g', 'd', 'c', 'e', 'd', 'b', 'a', 'a', 'e', 'b', 'a', 'e', 'a', 'b', 'f', 'f', 'i', 'e', 'g', 'e', 'f', 'a', 'd', 'b', 'a', 'd', 'h', 'c', 'k', 'd', 'c', 'a', 'e', 'f', 'a', 'b', 'a', 'e', 'b', 'd', 'a', 'd', 'f', 'g', 'e', 'b', 'd', 'a', 'a', 'a', 'b', 'd', 'c', 'd', 'a', 'b', 'f', 'a', 'g', 'c', 'f', 'a', 'c', 'h', 'b', 'c', 'a', 'b', 'e', 'e', 'c', 'f', 'f', 'a', 'g', 'a', 'd', 'c', 'f', 'a', 'd', 'a', 'd', 'g', 'f', 'k', 'g', 'a', 'g', 'b', 'g', 'a', 'b', 'c', 'g', 'b', 'c', 'b', 'a', 'c', 'a', 'f', 'b', 'e', 'g', 'c', 'f', 'a', 'a', 'e', 'e', 'k', 'k', 'i', 'c', 'k', 'd', 'e', 'd', 'a', 'b', 'b', 'f', 'g', 'e', 'e', 'a', 'g', 'a', 'e', 'd', 'a', 'b', 'i', 'd', 'f', 'f', 'g', 'f', 'c', 'd', 'k', 'a', 'g', 'b', 'f', 'f', 'c', 'g', 'b', 'c', 'c', 'b', 'a', 'c', 'f', 'f', 'b', 'e', 'b', 'g', 'f', 'd', 'a', 'i', 'g', 'c', 'e', 'c', 'e', 'b', 'd', 'e', 'f', 'j', 'c', 'c', 'i', 'e', 'd', 'a', 'a', 'd', 'b', 'f', 'f', 'd', 'f', 'e', 'e', 'f', 'a', 'e', 'f', 'e', 'k', 'g', 'a', 'a', 'g', 'a', 'f', 'b', 'a', 'c', 'b', 'g', 'a', 'e', 'a', 'g', 'f', 'c', 'a', 'a', 'g', 'f', 'g', 'c', 'k', 'g', 'b', 'i', 'a', 'c', 'd', 'a', 'e', 'e', 'c', 'b', 'j', 'c', 'c', 'f', 'b', 'b', 'c', 'a', 'b', 'e', 'a', 'a', 'd', 'd', 'f', 'e', 'c', 'a', 'f', 'd', 'a', 'a', 'a', 'a', 'a', 'a', 'a', 'b', 'f', 'a', 'g', 'a', 'a', 'g', 'e', 'b', 'a', 'f', 'g', 'a', 'a', 'i', 'a', 'f', 'a', 'h', 'a', 'c', 'd', 'd', 'i', 'g', 'e', 'b', 'c', 'j', 'c', 'a', 'c', 'a', 'a', 'c', 'b', 'f', 'a', 'a', 'c', 'd', 'a', 'a', 'a', 'g', 'c', 'd', 'c', 'b', 'a', 'c', 'd', 'a', 'c', 'g', 'f', 'a', 'b', 'b', 'g', 'b', 'k', 'd', 'd', 'c', 'd', 'e', 'f', 'e', 'c', 'c', 'b', 'b', 'g', 'c', 'j', 'i', 'b', 'g', 'a', 'a', 'f', 'a', 'a', 'e', 'e', 'j', 'c', 'a', 'f', 'b', 'g', 'a', 'c', 'b', 'a', 'c', 'g', 'e', 'f', 'b', 'e', 'k', 'j', 'd', 'a', 'k', 'e', 'c', 'd', 'e', 'e', 'b', 'g', 'g', 'b', 'c', 'f', 'd', 'e', 'f', 'g', 'b', 'c', 'c', 'c', 'f', 'c', 'e', 'f', 'a', 'e', 'b', 'e', 'b', 'c', 'd', 'c', 'k', 'c', 'e', 'a', 'b', 'd', 'a', 'c', 'a', 'b', 'b', 'e', 'a', 'b', 'e', 'g', 'g', 'b', 'e', 'b', 'c', 'e', 'b', 'd', 'a', 'a', 'f', 'f', 'd', 'b', 'a', 'b', 'd', 'b', 'c', 'a', 'c', 'b', 'b', 'b', 'a', 'e', 'h', 'c', 'd', 'a', 'c', 'a', 'b', 'd', 'g', 'b', 'b', 'e', 'b', 'a', 'b', 'd', 'f', 'b', 'a', 'd', 'g', 'b', 'e', 'a', 'f', 'c', 'a', 'c', 'f', 'b', 'd', 'c', 'b', 'g', 'b', 'b', 'e', 'g', 'c', 'e', 'a', 'e', 'a', 'b', 'c', 'e', 'a', 'g', 'f', 'i', 'g', 'g', 'i', 'e', 'c', 'b', 'c', 'j', 'c', 'e', 'a', 'b', 'a', 'a', 'b', 'f', 'c', 'g', 'f', 'b', 'h', 'h', 'd', 'a', 'c', 'g', 'c', 'g', 'd', 'b', 'a', 'c', 'f', 'a', 'c', 'f', 'b', 'd', 'b', 'e', 'g', 'a', 'a', 'd', 'c', 'f', 'a', 'f', 'b', 'a', 'f', 'j', 'c', 'f', 'f', 'b', 'd', 'b', 'g', 'g', 'd', 'g', 'c', 'b', 'a', 'a', 'e', 'b', 'a', 'c', 'd', 'b', 'c', 'a', 'b', 'd', 'd', 'k', 'd', 'c', 'c', 'd', 'b', 'b', 'c', 'b', 'c', 'g', 'a', 'd', 'f', 'b', 'e', 'a', 'b', 'd', 'e', 'a', 'a', 'a', 'g', 'b', 'g', 'f', 'e', 'f', 'a', 'e', 'a', 'b', 'j', 'b', 'e', 'j', 'd', 'c', 'f', 'c', 'g', 'b', 'a', 'f', 'd', 'f', 'a', 'd', 'b', 'f', 'c', 'j', 'c', 'f', 'b', 'f', 'g', 'e', 'e', 'g', 'b', 'k', 'g', 'c', 'g', 'a', 'c', 'e', 'g', 'f', 'e', 'c', 'a', 'g', 'c', 'b', 'b', 'a', 'f', 'c', 'a', 'c', 'f', 'a', 'c', 'a', 'b', 'a', 'b', 'c', 'a', 'c', 'a', 'e', 'a', 'e', 'a', 'e', 'c', 'a', 'd', 'g', 'a', 'b', 'f', 'a', 'c', 'c', 'a', 'e', 'f', 'd', 'a', 'b', 'c', 'a', 'b', 'e', 'c', 'b', 'a', 'a', 'e', 'c', 'i', 'h', 'g', 'c', 'b', 'c', 'd', 'c', 'c', 'd', 'b', 'e', 'a', 'f', 'd', 'a', 'c', 'g', 'g', 'g', 'b', 'c', 'g', 'b', 'a', 'c', 'c', 'd', 'f', 'a', 'c', 'k', 'c', 'f', 'd', 'c', 'k', 'e', 'a', 'e', 'd', 'b', 'c', 'b', 'd', 'd', 'f', 'a', 'e', 'f', 'a', 'f', 'c', 'c', 'f', 'b', 'd', 'e', 'a', 'd', 'b', 'j', 'a', 'e', 'g', 'g', 'd', 'd', 'a', 'f', 'a', 'f', 'b', 'a', 'g', 'b', 'b', 'e', 'b', 'f', 'c', 'k', 'b', 'c', 'c', 'f', 'b', 'b', 'a', 'b', 'd', 'c', 'f', 'g', 'a', 'c', 'e', 'c', 'd', 'f', 'd', 'c', 'b', 'c', 'e', 'a', 'b', 'a', 'g', 'c', 'c', 'k', 'd', 'f', 'a', 'a', 'g', 'a', 'e', 'c', 'c', 'f', 'd', 'f', 'a', 'a', 'a', 'a', 'k', 'k', 'b', 'g', 'd', 'b', 'c', 'e', 'b', 'a', 'f', 'a', 'b', 'b', 'a', 'e', 'b', 'a', 'g', 'b', 'd', 'e', 'g', 'c', 'd', 'e', 'b', 'd', 'g', 'g', 'g', 'g', 'a', 'g', 'e', 'b', 'd', 'b', 'g', 'e', 'f', 'd', 'a', 'a', 'f', 'b', 'e', 'f', 'a', 'b', 'c', 'g', 'b', 'a', 'd', 'a', 'a', 'a', 'e', 'a', 'e', 'f', 'e', 'k', 'a', 'g', 'a', 'e', 'b', 'f', 'd', 'd', 'd', 'g', 'g', 'c', 'f', 'i', 'e', 'c', 'f', 'c', 'a', 'f', 'a', 'b', 'a', 'b', 'b', 'g', 'd', 'g', 'd', 'e', 'c', 'j', 'b', 'a', 'd', 'h', 'a', 'j', 'a', 'c', 'd', 'b', 'c', 'e', 'a', 'b', 'a', 'b', 'a', 'd', 'i', 'd', 'a', 'a', 'b', 'c', 'b', 'b', 'k', 'h', 'a', 'f', 'c', 'g', 'c', 'a', 'c', 'i', 'g', 'c', 'a', 'c', 'a', 'e', 'a', 'a', 'a', 'd', 'c', 'c', 'k', 'a', 'g', 'c', 'c', 'a', 'd', 'd', 'b', 'a', 'e', 'g', 'd', 'e', 'a', 'j', 'b', 'g', 'd', 'f', 'e', 'e', 'a', 'b', 'a', 'j', 'i', 'c', 'c', 'f', 'c', 'a', 'c', 'e', 'c', 'c', 'b', 'd', 'a', 'd', 'k', 'a', 'a', 'a', 'f', 'b', 'g', 'a', 'e', 'b', 'c', 'a', 'a', 'h', 'b', 'a', 'c', 'e', 'b', 'g', 'd', 'd', 'a', 'k', 'a', 'a', 'b', 'e', 'f', 'd', 'd', 'b', 'c', 'e', 'h', 'a', 'a', 'j', 'f', 'b', 'k', 'b', 'g', 'a', 'd', 'g', 'e', 'b', 'g', 'e', 'a', 'a', 'd', 'a', 'c', 'b', 'e', 'g', 'c', 'e', 'e', 'e', 'b', 'i', 'b', 'a', 'g', 'f', 'b', 'b', 'c', 'g', 'f', 'b', 'a', 'a', 'g', 'f', 'b', 'b', 'd', 'a', 'c', 'g', 'g', 'g', 'f', 'b', 'j', 'b', 'b', 'a', 'c', 'a', 'c', 'e', 'a', 'c', 'c', 'b', 'e', 'c', 'e', 'd', 'b', 'f', 'e', 'c', 'd', 'c', 'b', 'a', 'a', 'a', 'f', 'c', 'a', 'j', 'c', 'b', 'i', 'a', 'f', 'd', 'e', 'b', 'd', 'c', 'h', 'c', 'e', 'd', 'e', 'b', 'a', 'c', 'a', 'c', 'a', 'f', 'a', 'b', 'a', 'c', 'f', 'a', 'b', 'c', 'd', 'f', 'f', 'c', 'g', 'a', 'd', 'j', 'c', 'a', 'g', 'b', 'c', 'a', 'a', 'b', 'b', 'f', 'b', 'g', 'a', 'a', 'b', 'h', 'a', 'a', 'a', 'c', 'b', 'b', 'b', 'a', 'g', 'a', 'a', 'k', 'a', 'b', 'c', 'f', 'c', 'e', 'd', 'b', 'a', 'c', 'i', 'a', 'a', 'g', 'i', 'b', 'a', 'c', 'f', 'f', 'b', 'c', 'a', 'e', 'g', 'k', 'b', 'd', 'f', 'g', 'k', 'e', 'c', 'h', 'c', 'a', 'j', 'c', 'g', 'h', 'd', 'a', 'a', 'a', 'e', 'i', 'b', 'd', 'c', 'b', 'c', 'f', 'g', 'b', 'a', 'd', 'a', 'd', 'a', 'd', 'i', 'a', 'b', 'b', 'a', 'k', 'c', 'a', 'g', 'd', 'a', 'a', 'b', 'a', 'g', 'c', 'd', 'a', 'c', 'd', 'a', 'b', 'c', 'a', 'e', 'a', 'b', 'd', 'c', 'd', 'a', 'a', 'd', 'k', 'e', 'a', 'g', 'a', 'g', 'f', 'k', 'a', 'd', 'a', 'f', 'b', 'b', 'a', 'b', 'g', 'j', 'e', 'f', 'b', 'a', 'b', 'a', 'a', 'k', 'a', 'h', 'b', 'f', 'g', 'f', 'b', 'c', 'e', 'e', 'g', 'b', 'h', 'e', 'c', 'c', 'e', 'a', 'a', 'j', 'h', 'j', 'a', 'e', 'a', 'd', 'b', 'g', 'e', 'd', 'c', 'c', 'a', 'a', 'd', 'a', 'g', 'h', 'a', 'c', 'b', 'd', 'd', 'b', 'f', 'c', 'd', 'c', 'c', 'a', 'j', 'a', 'a', 'a', 'e', 'a', 'a', 'g', 'a', 'a', 'd', 'd', 'c', 'k', 'f', 'b', 'b', 'e', 'a', 'e', 'c', 'd', 'd', 'a', 'c', 'd', 'c', 'c', 'g', 'a', 'a', 'e', 'b', 'g', 'a', 'c', 'b', 'a', 'g', 'a', 'a', 'a', 'd', 'b', 'b', 'c', 'd', 'd', 'a', 'f', 'c', 'd', 'f', 'j', 'a', 'g', 'e', 'a', 'a', 'b', 'c', 'g', 'f', 'e', 'b', 'g', 'f', 'b', 'e', 'd', 'c', 'g', 'k', 'e', 'd', 'g', 'b', 'a', 'b', 'h', 'a', 'd', 'c', 'e', 'j', 'b', 'g', 'a', 'j', 'c', 'e', 'f', 'a', 'a', 'c', 'a', 'd', 'g', 'k', 'g', 'i', 'g', 'a', 'e', 'b', 'f', 'd', 'd', 'f', 'e', 'd', 'c', 'a', 'b', 'a', 'h', 'b', 'g', 'g', 'c', 'd', 'a', 'b', 'f', 'e', 'a', 'b', 'c', 'h', 'k', 'c', 'c', 'a', 'c', 'a', 'c', 'f', 'a', 'f', 'a', 'a', 'a', 'd', 'k', 'a', 'g', 'a', 'a', 'd', 'c', 'e', 'f', 'a', 'g', 'e', 'g', 'a', 'b', 'a', 'h', 'e', 'b', 'a', 'g', 'g', 'e', 'e', 'b', 'k', 'd', 'b', 'a', 'g', 'f', 'e', 'g', 'c', 'b', 'f', 'b', 'b', 'a', 'g', 'i', 'a', 'e', 'e', 'd', 'a', 'i', 'a', 'b', 'a', 'a', 'e', 'b', 'c', 'g', 'f', 'c', 'b', 'a', 'a', 'a', 'g', 'b', 'i', 'a', 'd', 'f', 'f', 'f', 'e', 'f', 'e', 'e', 'b', 'a', 'a', 'e', 'e', 'e', 'a', 'c', 'g', 'd', 'c', 'b', 'd', 'c', 'e', 'a', 'd', 'd', 'a', 'e', 'e', 'j', 'e', 'b', 'f', 'i', 'f', 'g', 'j', 'f', 'd', 'd', 'c', 'c', 'e', 'c', 'j', 'e', 'b', 'i', 'c', 'b', 'a', 'c', 'e', 'c', 'a', 'a', 'a', 'c', 'a', 'b', 'f', 'e', 'a', 'i', 'g', 'e', 'd', 'b', 'h', 'b', 'a', 'g', 'c', 'a', 'd', 'f', 'a', 'c', 'e', 'f', 'c', 'a', 'a', 'c', 'f', 'g', 'b', 'e', 'a', 'b', 'a', 'd', 'c', 'a', 'a', 'b', 'c', 'c', 'a', 'e', 'b', 'a', 'a', 'k', 'c', 'a', 'a', 'b', 'c', 'f', 'c', 'b', 'a', 'a', 'j', 'b', 'g', 'f', 'a', 'g', 'e', 'c', 'b', 'g', 'a', 'a', 'f', 'b', 'e', 'k', 'e', 'k', 'a', 'g', 'a', 'g', 'j', 'e', 'c', 'b', 'e', 'f', 'a', 'c', 'c', 'b', 'd', 'e', 'c', 'c', 'h', 'e', 'b', 'a', 'a', 'b', 'd', 'c', 'e', 'e', 'f', 'c', 'i', 'c', 'b', 'g', 'h', 'g', 'c', 'e', 'c', 'g', 'b', 'f', 'd', 'k', 'c', 'b', 'c', 'b', 'c', 'b', 'f', 'f', 'b', 'a', 'e', 'e', 'f', 'k', 'c', 'f', 'a', 'b', 'h', 'g', 'c', 'a', 'c', 'b', 'a', 'b', 'c', 'f', 'g', 'e', 'b', 'e', 'e', 'g', 'a', 'b', 'a', 'b', 'f', 'e', 'g', 'a', 'e', 'k', 'f', 'b', 'b', 'f', 'g', 'b', 'e', 'h', 'f', 'b', 'c', 'a', 'e', 'a', 'c', 'c', 'g', 'a', 'e', 'f', 'c', 'a', 'b', 'e', 'a', 'a', 'c', 'c', 'b', 'd', 'g', 'f', 'e', 'b', 'd', 'g', 'a', 'd', 'a', 'g', 'g', 'b', 'c', 'b', 'c', 'g', 'g', 'c', 'a', 'f', 'a', 'a', 'c', 'e', 'a', 'a', 'b', 'd', 'g', 'a', 'b', 'a', 'd', 'c', 'c', 'b', 'e', 'd', 'e', 'j', 'c', 'b', 'g', 'c', 'h', 'f', 'c', 'g', 'a', 'c', 'c', 'g', 'b', 'g', 'a', 'a', 'b', 'k', 'c', 'c', 'b', 'e', 'c', 'd', 'e', 'b', 'g', 'b', 'e', 'a', 'b', 'e', 'b', 'a', 'd', 'c', 'g', 'g', 'a', 'b', 'g', 'g', 'j', 'c', 'c', 'd', 'f', 'f', 'a', 'g', 'f', 'c', 'f', 'a', 'a', 'e', 'a', 'd', 'g', 'g', 'a', 'e', 'd', 'd', 'c', 'a', 'd', 'e', 'a', 'd', 'a', 'k', 'b', 'f', 'g', 'b', 'f', 'f', 'c', 'g', 'b', 'c', 'g', 'i', 'j', 'e', 'k', 'k', 'a', 'f', 'f', 'a', 'c', 'g', 'd', 'h', 'a', 'c', 'd', 'b', 'c', 'a', 'a', 'f', 'c', 'd', 'd', 'g', 'a', 'd', 'c', 'b', 'e', 'd', 'i', 'c', 'a', 'b', 'b', 'f', 'a', 'b', 'a', 'i', 'e', 'b', 'd', 'e', 'a', 'g', 'b', 'a', 'c', 'b', 'd', 'a', 'e', 'a', 'g', 'k', 'b', 'c', 'e', 'b', 'g', 'c', 'b', 'e', 'g', 'a', 'i', 'b', 'a', 'f', 'j', 'f', 'e', 'c', 'k', 'c', 'c', 'g', 'g', 'f', 'b', 'd', 'g', 'e', 'f', 'b', 'b', 'a', 'g', 'a', 'f', 'e', 'g', 'e', 'b', 'a', 'b', 'c', 'b', 'a', 'f', 'k', 'a', 'b', 'b', 'f', 'f', 'c', 'e', 'g', 'f', 'k', 'c', 'b', 'c', 'a', 'e', 'e', 'a', 'g', 'f', 'e', 'c', 'a', 'g', 'd', 'a', 'e', 'e', 'f', 'a', 'd', 'g', 'e', 'e', 'h', 'e', 'b', 'c', 'f', 'e', 'd', 'g', 'b', 'f', 'b', 'f', 'c', 'b', 'c', 'a', 'g', 'e', 'i', 'e', 'g', 'a', 'i', 'e', 'c', 'a', 'a', 'd', 'e', 'd', 'b', 'b', 'b', 'e', 'd', 'd', 'f', 'g', 'd', 'b', 'f', 'f', 'b', 'a', 'g', 'c', 'g', 'a', 'a', 'e', 'b', 'j', 'c', 'b', 'g', 'g', 'b', 'b', 'a', 'b', 'd', 'c', 'a', 'a', 'a', 'b', 'b', 'g', 'a', 'd', 'b', 'e', 'a', 'a', 'd', 'e', 'b', 'c', 'b', 'd', 'f', 'c', 'f', 'c', 'd', 'f', 'c', 'c', 'b', 'g', 'd', 'b', 'k', 'b', 'a', 'a', 'a', 'e', 'f', 'j', 'e', 'g', 'a', 'h', 'b', 'f', 'b', 'e', 'b', 'c', 'c', 'e', 'b', 'd', 'a', 'a', 'c', 'a', 'd', 'c', 'a', 'c', 'k', 'e', 'g', 'd', 'b', 'b', 'e', 'a', 'a', 'd', 'd', 'k', 'b', 'k', 'e', 'b', 'a', 'g', 'e', 'c', 'a', 'c', 'b', 'f', 'g', 'g', 'e', 'a', 'c', 'b', 'f', 'a', 'b', 'e', 'b', 'a', 'c', 'g', 'c', 'g', 'g', 'b', 'a', 'c', 'e', 'g', 'f', 'k', 'c', 'c', 'b', 'b', 'd', 'g', 'c', 'e', 'c', 'd', 'a', 'e', 'g', 'd', 'a', 'f', 'd', 'k', 'f', 'e', 'f', 'c', 'b', 'f', 'b', 'c', 'e', 'd', 'd', 'e', 'a', 'a', 'g', 'a', 'd', 'b', 'b', 'b', 'b', 'a', 'b', 'a', 'b', 'c', 'f', 'e', 'b', 'a', 'd', 'g', 'c', 'f', 'b', 'e', 'c', 'c', 'a', 'b', 'g', 'c', 'c', 'c', 'f', 'b', 'k', 'k', 'g', 'e', 'd', 'c', 'g', 'b', 'c', 'e', 'd', 'd', 'b', 'g', 'a', 'e', 'b', 'k', 'h', 'e', 'c', 'k', 'g', 'f', 'a', 'b', 'd', 'd', 'c', 'a', 'e', 'b', 'b', 'd', 'c', 'c', 'd', 'e', 'e', 'b', 'a', 'g', 'a', 'f', 'a', 'a', 'd', 'a', 'g', 'b', 'c', 'b', 'h', 'c', 'g', 'e', 'c', 'd', 'b', 'a', 'b', 'c', 'e', 'b', 'a', 'd', 'c', 'j', 'c', 'c', 'f', 'c', 'b', 'a', 'c', 'b', 'b', 'a', 'c', 'a', 'd', 'd', 'e', 'f', 'a', 'k', 'k', 'a', 'c', 'b', 'f', 'e', 'b', 'b', 'e', 'c', 'a', 'k', 'b', 'c', 'b', 'b', 'c', 'b', 'j', 'a', 'g', 'e', 'd', 'a', 'd', 'e', 'f', 'b', 'b', 'e', 'c', 'c', 'c', 'e', 'c', 'g', 'a', 'a', 'e', 'd', 'a', 'i', 'e', 'f', 'c', 'c', 'b', 'b', 'k', 'a', 'b', 'b', 'c', 'g', 'e', 'a', 'f', 'd', 'b', 'e', 'a', 'e', 'b', 'f', 'b', 'f', 'g', 'i', 'c', 'b', 'a', 'b', 'b', 'g', 'b', 'c', 'b', 'b', 'h', 'd', 'a', 'b', 'a', 'f', 'a', 'd', 'e', 'e', 'b', 'f', 'a', 'i', 'c', 'e', 'c', 'c', 'e', 'c', 'b', 'g', 'e', 'c', 'a', 'e', 'a', 'b', 'b', 'c', 'a', 'c', 'c', 'e', 'c', 'b', 'g', 'g', 'f', 'h', 'a', 'a', 'e', 'a', 'e', 'd', 'b', 'd', 'e', 'b', 'k', 'd', 'f', 'k', 'a', 'd', 'a', 'c', 'b', 'g', 'b', 'a', 'e', 'e', 'b', 'c', 'a', 'd', 'd', 'c', 'b', 'g', 'c', 'b', 'd', 'b', 'e', 'f', 'j', 'a', 'a', 'c', 'a', 'a', 'c', 'a', 'e', 'c', 'a', 'g', 'k', 'b', 'e', 'd', 'f', 'a', 'e', 'a', 'g', 'd', 'b', 'g', 'e', 'g', 'a', 'g', 'f', 'f', 'j', 'a', 'g', 'a', 'd', 'd', 'd', 'a', 'c', 'k', 'b', 'f', 'c', 'e', 'e', 'f', 'c', 'b', 'c', 'c', 'b', 'c', 'g', 'e', 'j', 'a', 'd', 'd', 'd', 'g', 'c', 'b', 'b', 'e', 'f', 'e', 'b', 'c', 'k', 'a', 'c', 'e', 'c', 'b', 'd', 'e', 'c', 'a', 'g', 'f', 'c', 'e', 'c', 'c', 'a', 'a', 'e', 'b', 'b', 'c', 'i', 'g', 'b', 'c', 'a', 'f', 'b', 'c', 'k', 'g', 'g', 'e', 'a', 'd', 'f', 'a', 'b', 'c', 'a', 'a', 'a', 'k', 'a', 'e', 'a', 'c', 'a', 'b', 'f', 'b', 'f', 'a', 'f', 'i', 'c', 'g', 'f', 'c', 'e', 'a', 'd', 'a', 'c', 'e', 'a', 'b', 'a', 'c', 'e', 'f', 'a', 'j', 'c', 'g', 'a', 'g', 'f', 'a', 'g', 'b', 'k', 'b', 'a', 'f', 'e', 'a', 'b', 'a', 'e', 'b', 'g', 'h', 'd', 'c', 'b', 'b', 'e', 'c', 'j', 'e', 'c', 'e', 'e', 'a', 'a', 'c', 'g', 'a', 'b', 'f', 'a', 'a', 'g', 'd', 'f', 'a', 'g', 'h', 'g', 'f', 'a', 'e', 'g', 'b', 'f', 'e', 'a', 'a', 'a', 'b', 'f', 'g', 'g', 'b', 'f', 'g', 'f', 'e', 'f', 'd', 'a', 'j', 'a', 'c', 'c', 'k', 'c', 'a', 'a', 'c', 'd', 'b', 'a', 'b', 'b', 'b', 'c', 'a', 'a', 'f', 'f', 'g', 'a', 'a', 'a', 'd', 'c', 'e', 'a', 'a', 'e', 'g', 'c', 'e', 'j', 'g', 'g', 'k', 'f', 'a', 'e', 'f', 'd', 'a', 'c', 'f', 'e', 'd', 'i', 'g', 'c', 'c', 'g', 'b', 'c', 'a', 'c', 'e', 'a', 'd', 'c', 'b', 'c', 'a', 'e', 'f', 'e', 'i', 'g', 'a', 'c', 'c', 'k', 'g', 'b', 'b', 'a', 'a', 'e', 'b', 'e', 'e', 'd', 'c', 'c', 'c', 'a', 'c', 'c', 'b', 'd', 'b', 'a', 'e', 'a', 'b', 'g', 'c', 'g', 'd', 'g', 'b', 'b', 'b', 'b', 'a', 'c', 'a', 'e', 'b', 'd', 'b', 'b', 'g', 'b', 'b', 'c', 'f', 'f', 'g', 'c', 'k', 'a', 'f', 'e', 'g', 'c', 'f', 'f', 'c', 'b', 'd', 'e', 'a', 'd', 'g', 'c', 'i', 'b', 'e', 'f', 'b', 'b', 'a', 'h', 'c', 'd', 'b', 'f', 'a', 'd', 'a', 'e', 'e', 'k', 'a', 'e', 'b', 'd', 'h', 'e', 'c', 'a', 'b', 'c', 'c', 'd', 'b', 'f', 'c', 'g', 'c', 'a', 'g', 'b', 'c', 'f', 'c', 'e', 'c', 'c', 'a', 'a', 'c', 'a', 'k', 'c', 'e', 'i', 'b', 'c', 'c', 'e', 'b', 'c', 'd', 'a', 'b', 'd', 'a', 'a', 'g', 'c', 'f', 'a', 'a', 'd', 'b', 'b', 'b', 'd', 'b', 'c', 'f', 'b', 'b', 'c', 'g', 'e', 'c', 'g', 'b', 'a', 'a', 'k', 'a', 'd', 'f', 'a', 'a', 'c', 'f', 'a', 'f', 'e', 'a', 'c', 'c', 'd', 'a', 'g', 'b', 'f', 'b', 'e', 'e', 'a', 'd', 'd', 'f', 'a', 'a', 'c', 'a', 'a', 'b', 'd', 'a', 'c', 'e', 'd', 'g', 'i', 'f', 'b', 'd', 'f', 'e', 'b', 'd', 'e', 'd', 'e', 'a', 'e', 'b', 'e', 'e', 'd', 'g', 'f', 'b', 'a', 'd', 'c', 'b', 'c', 'd', 'b', 'b', 'a', 'd', 'e', 'e', 'a', 'd', 'd', 'd', 'e', 'a', 'g', 'b', 'g', 'd', 'a', 'd', 'b', 'a', 'a', 'e', 'h', 'e', 'b', 'g', 'f', 'b', 'g', 'e', 'a', 'd', 'a', 'e', 'h', 'h', 'a', 'd', 'f', 'e', 'a', 'e', 'a', 'f', 'b', 'a', 'b', 'a', 'f', 'c', 'e', 'a', 'k', 'c', 'f', 'k', 'd', 'a', 'i', 'b', 'f', 'd', 'a', 'a', 'c', 'h', 'a', 'e', 'g', 'a', 'c', 'b', 'b', 'k', 'e', 'a', 'a', 'c', 'c', 'c', 'e', 'a', 'b', 'e', 'b', 'd', 'i', 'f', 'a', 'e', 'a', 'c', 'c', 'c', 'd', 'a', 'c', 'k', 'd', 'c', 'e', 'd', 'b', 'b', 'g', 'a', 'a', 'e', 'b', 'c', 'c', 'a', 'b', 'e', 'b', 'c', 'e', 'g', 'a', 'd', 'f', 'd', 'd', 'j', 'a', 'i', 'a', 'b', 'b', 'h', 'b', 'b', 'b', 'e', 'a', 'g', 'b', 'i', 'b', 'a', 'a', 'a', 'a', 'c', 'b', 'a', 'h', 'a', 'c', 'h', 'a', 'b', 'b', 'd', 'a', 'f', 'd', 'a', 'g', 'f', 'a', 'g', 'd', 'b', 'c', 'd', 'c', 'a', 'c', 'a', 'a', 'b', 'e', 'a', 'g', 'c', 'a', 'j', 'a', 'c', 'c', 'g', 'b', 'e', 'f', 'c', 'b', 'g', 'g', 'a', 'a', 'b', 'd', 'c', 'b', 'b', 'd', 'a', 'd', 'c', 'd', 'c', 'a', 'g', 'k', 'b', 'f', 'k', 'e', 'c', 'a', 'e', 'b', 'e', 'k', 'g', 'f', 'j', 'a', 'f', 'c', 'b', 'j', 'g', 'a', 'f', 'a', 'a', 'e', 'c', 'a', 'a', 'g', 'g', 'a', 'f', 'h', 'c', 'a', 'f', 'b', 'b', 'a', 'a', 'c', 'e', 'b', 'g', 'b', 'g', 'd', 'b', 'e', 'd', 'h', 'c', 'e', 'a', 'g', 'a', 'e', 'a', 'e', 'h', 'b', 'a', 'g', 'a', 'd', 'a', 'c', 'f', 'a', 'e', 'e', 'a', 'b', 'b', 'd', 'e', 'c', 'a', 'a', 'g', 'd', 'd', 'a', 'c', 'c', 'a', 'e', 'a', 'i', 'a', 'c', 'e', 'b', 'b', 'e', 'a', 'c', 'a', 'g', 'b', 'f', 'd', 'a', 'c', 'c', 'b', 'c', 'c', 'b', 'd', 'a', 'e', 'j', 'c', 'g', 'g', 'a', 'd', 'a', 'f', 'e', 'b', 'a', 'a', 'g', 'e', 'b', 'a', 'a', 'e', 'a', 'd', 'h', 'b', 'k', 'a', 'e', 'e', 'i', 'a', 'c', 'g', 'd', 'c', 'c', 'b', 'f', 'a', 'b', 'b', 'a', 'c', 'a', 'd', 'g', 'a', 'a', 'c', 'b', 'b', 'd', 'f', 'c', 'g', 'd', 'c', 'd', 'd', 'e', 'a', 'c', 'd', 'j', 'd', 'b', 'c', 'a', 'f', 'c', 'g', 'c', 'b', 'a', 'b', 'c', 'd', 'g', 'b', 'a', 'f', 'a', 'b', 'e', 'c', 'a', 'g', 'g', 'c', 'g', 'b', 'f', 'k', 'b', 'g', 'a', 'f', 'a', 'g', 'a', 'c', 'a', 'b', 'f', 'a', 'f', 'a', 'c', 'f', 'a', 'f', 'f', 'b', 'b', 'a', 'a', 'a', 'e', 'b', 'f', 'a', 'a', 'k', 'g', 'a', 'g', 'b', 'e', 'b', 'f', 'c', 'c', 'd', 'f', 'a', 'a', 'd', 'k', 'e', 'e', 'k', 'd', 'k', 'd', 'a', 'c', 'i', 'g', 'f', 'f', 'd', 'a', 'g', 'd', 'g', 'g', 'd', 'd', 'g', 'b', 'i', 'k', 'f', 'a', 'c', 'c', 'd', 'k', 'a', 'e', 'b', 'a', 'b', 'b', 'e', 'g', 'j', 'b', 'b', 'a', 'd', 'e', 'b', 'c', 'a', 'g', 'a', 'g', 'd', 'i', 'd', 'g', 'e', 'f', 'e', 'c', 'i', 'b', 'a', 'a', 'a', 'd', 'a', 'a', 'g', 'c', 'b', 'a', 'a', 'a', 'g', 'e', 'e', 'k', 'c', 'c', 'k', 'e', 'a', 'j', 'd', 'f', 'c', 'b', 'd', 'e', 'a', 'g', 'k', 'b', 'c', 'f', 'e', 'a', 'c', 'e', 'a', 'e', 'g', 'g', 'b', 'h', 'a', 'a', 'b', 'd', 'a', 'a', 'c', 'a', 'd', 'c', 'b', 'a', 'c', 'f', 'f', 'i', 'f', 'd', 'b', 'g', 'a', 'd', 'c', 'g', 'a', 'b', 'b', 'k', 'a', 'd', 'f', 'd', 'g', 'c', 'e', 'b', 'e', 'b', 'a', 'c', 'e', 'a', 'f', 'a', 'g', 'a', 'f', 'c', 'c', 'b', 'c', 'k', 'b', 'f', 'a', 'b', 'g', 'f', 'e', 'c', 'e', 'd', 'f', 'b', 'd', 'c', 'b', 'a', 'b', 'c', 'c', 'c', 'g', 'c', 'a', 'h', 'h', 'b', 'i', 'a', 'a', 'c', 'a', 'k', 'f', 'b', 'f', 'e', 'h', 'd', 'a', 'c', 'g', 'g', 'a', 'j', 'e', 'g', 'a', 'b', 'f', 'i', 'b', 'b', 'b', 'j', 'a', 'd', 'e', 'i', 'd', 'd', 'a', 'e', 'g', 'b', 'j', 'e', 'a', 'd', 'd', 'c', 'a', 'b', 'c', 'd', 'b', 'f', 'c', 'c', 'e', 'k', 'e', 'b', 'a', 'a', 'd', 'k', 'c', 'b', 'g', 'd', 'c', 'c', 'c', 'a', 'c', 'a', 'e', 'e', 'a', 'g', 'f', 'e', 'a', 'e', 'e', 'f', 'h', 'g', 'a', 'e', 'd', 'b', 'a', 'g', 'a', 'f', 'e', 'b', 'a', 'd', 'd', 'b', 'a', 'g', 'c', 'c', 'b', 'f', 'b', 'f', 'f', 'h', 'a', 'c', 'b', 'b', 'f', 'c', 'd', 'c', 'a', 'e', 'f', 'c', 'a', 'f', 'f', 'b', 'h', 'f', 'c', 'c', 'f', 'b', 'e', 'a', 'd', 'j', 'a', 'h', 'c', 'e', 'b', 'h', 'b', 'b', 'b', 'f', 'f', 'f', 'i', 'f', 'a', 'c', 'b', 'a', 'a', 'a', 'e', 'g', 'c', 'a', 'g', 'b', 'b', 'a', 'f', 'e', 'f', 'k', 'c', 'd', 'e', 'f', 'a', 'e', 'a', 'a', 'k', 'e', 'c', 'c', 'a', 'a', 'a', 'c', 'c', 'd', 'd', 'c', 'b', 'a', 'b', 'k', 'e', 'k', 'a', 'j', 'g', 'c', 'a', 'g', 'a', 'c', 'c', 'b', 'b', 'f', 'c', 'd', 'a', 'g', 'f', 'e', 'f', 'd', 'a', 'd', 'e', 'a', 'b', 'a', 'h', 'a', 'h', 'c', 'b', 'e', 'g', 'a', 'e', 'k', 'a', 'g', 'a', 'f', 'a', 'c', 'c', 'b', 'b', 'i', 'j', 'b', 'a', 'k', 'a', 'a', 'a', 'a', 'b', 'k', 'i', 'a', 'd', 'a', 'b', 'f', 'a', 'd', 'g', 'f', 'd', 'c', 'c', 'e', 'g', 'a', 'd', 'c', 'd', 'a', 'c', 'b', 'a', 'd', 'd', 'b', 'c', 'd', 'e', 'g', 'g', 'a', 'a', 'f', 'c', 'd', 'f', 'a', 'f', 'd', 'a', 'e', 'a', 'e', 'b', 'b', 'a', 'a', 'a', 'b', 'a', 'f', 'e', 'd', 'e', 'e', 'f', 'h', 'd', 'c', 'b', 'e', 'g', 'g', 'c', 'k', 'a', 'g', 'b', 'g', 'a', 'b', 'f', 'e', 'f', 'b', 'b', 'g', 'd', 'f', 'c', 'd', 'e', 'a', 'c', 'e', 'd', 'e', 'd', 'k', 'h', 'd', 'a', 'f', 'c', 'c', 'e', 'g', 'a', 'a', 'd', 'e', 'a', 'a', 'c', 'c', 'd', 'a', 'e', 'a', 'f', 'd', 'd', 'd', 'c', 'c', 'a', 'e', 'a', 'e', 'g', 'g', 'g', 'd', 'd', 'b', 'd', 'd', 'e', 'd', 'j', 'a', 'b', 'b', 'a', 'c', 'a', 'a', 'd', 'b', 'b', 'e', 'b', 'f', 'b', 'b', 'e', 'c', 'c', 'e', 'd', 'b', 'a', 'b', 'a', 'c', 'g', 'c', 'a', 'f', 'c', 'b', 'a', 'a', 'g', 'f', 'c', 'e', 'a', 'f', 'f', 'g', 'f', 'f', 'b', 'e', 'b', 'b', 'k', 'a', 'e', 'a', 'b', 'a', 'a', 'd', 'f', 'f', 'g', 'g', 'j', 'h', 'b', 'e', 'e', 'd', 'b', 'd', 'e', 'c', 'g', 'a', 'a', 'c', 'd', 'c', 'd', 'j', 'c', 'c', 'e', 'c', 'a', 'c', 'f', 'a', 'c', 'd', 'j', 'a', 'd', 'd', 'c', 'j', 'a', 'g', 'b', 'a', 'b', 'f', 'g', 'e', 'e', 'a', 'd', 'c', 'g', 'f', 'a', 'h', 'g', 'g', 'b', 'c', 'g', 'a', 'b', 'a', 'b', 'g', 'f', 'c', 'b', 'b', 'a', 'g', 'k', 'f', 'd', 'e', 'f', 'c', 'a', 'f', 'a', 'a', 'b', 'b', 'a', 'f', 'a', 'c', 'c', 'c', 'e', 'a', 'a', 'a', 'e', 'b', 'e', 'c', 'b', 'e', 'b', 'a', 'g', 'g', 'g', 'b', 'f', 'd', 'c', 'a', 'a', 'h', 'a', 'a', 'd', 'g', 'c', 'a', 'b', 'c', 'a', 'f', 'd', 'e', 'f', 'd', 'f', 'a', 'a', 'd', 'b', 'g', 'a', 'g', 'c', 'd', 'e', 'd', 'a', 'c', 'i', 'c', 'e', 'f', 'b', 'a', 'd', 'e', 'e', 'e', 'e', 'f', 'a', 'g', 'a', 'a', 'e', 'a', 'b', 'b', 'c', 'i', 'b', 'd', 'c', 'c', 'a', 'b', 'b', 'c', 'a', 'e', 'k', 'g', 'e', 'f', 'a', 'c', 'e', 'a', 'b', 'g', 'b', 'e', 'a', 'h', 'c', 'c', 'd', 'c', 'g', 'a', 'b', 'g', 'a', 'g', 'g', 'b', 'c', 'd', 'd', 'a', 'b', 'f', 'b', 'g', 'e', 'g', 'd', 'g', 'b', 'b', 'k', 'b', 'c', 'i', 'e', 'f', 'f', 'b', 'g', 'f', 'e', 'i', 'e', 'c', 'a', 'b', 'b', 'g', 'e', 'k', 'c', 'a', 'b', 'j', 'g', 'a', 'b', 'a', 'c', 'a', 'a', 'c', 'f', 'b', 'a', 'e', 'd', 'a', 'c', 'f', 'a', 'k', 'b', 'b', 'c', 'e', 'e', 'g', 'd', 'f', 'b', 'e', 'e', 'b', 'c', 'd', 'c', 'c', 'a', 'f', 'k', 'e', 'b', 'c', 'd', 'b', 'd', 'b', 'b', 'a', 'e', 'c', 'd', 'c', 'b', 'c', 'f', 'g', 'b', 'b', 'g', 'g', 'c', 'a', 'f', 'b', 'c', 'c', 'b', 'e', 'a', 'a', 'c', 'a', 'f', 'c', 'f', 'g', 'c', 'c', 'e', 'a', 'e', 'a', 'a', 'b', 'd', 'c', 'f', 'b', 'd', 'g', 'h', 'a', 'a', 'j', 'g', 'c', 'e', 'd', 'a', 'g', 'd', 'f', 'f', 'a', 'a', 'f', 'a', 'a', 'f', 'b', 'c', 'b', 'k', 'e', 'g', 'a', 'a', 'd', 'c', 'd', 'k', 'e', 'b', 'b', 'e', 'e', 'b', 'c', 'i', 'f', 'b', 'a', 'a', 'k', 'e', 'b', 'd', 'b', 'c', 'a', 'c', 'i', 'c', 'd', 'e', 'c', 'g', 'd', 'a', 'e', 'f', 'b', 'b', 'a', 'g', 'b', 'e', 'f', 'd', 'c', 'b', 'd', 'a', 'c', 'a', 'c', 'f', 'k', 'c', 'd', 'g', 'a', 'a', 'f', 'c', 'f', 'g', 'b', 'b', 'a', 'e', 'd', 'g', 'b', 'a', 'd', 'c', 'e', 'd', 'c', 'a', 'a', 'd', 'b', 'g', 'g', 'e', 'd', 'i', 'e', 'd', 'f', 'g', 'g', 'f', 'f', 'c', 'i', 'c', 'b', 'c', 'a', 'a', 'd', 'a', 'g', 'f', 'g', 'c', 'g', 'g', 'c', 'd', 'f', 'c', 'e', 'a', 'b', 'f', 'b', 'f', 'a', 'e', 'c', 'g', 'a', 'd', 'c', 'c', 'c', 'b', 'c']\n"
          ]
        }
      ]
    },
    {
      "cell_type": "markdown",
      "source": [
        "We save the generated words into a file."
      ],
      "metadata": {
        "id": "4V7bureZhVYA"
      }
    },
    {
      "cell_type": "code",
      "source": [
        "test_output_path=\"/content/DS_6_test_output_nextWord\"\n",
        "pickle.dump(results, open(test_output_path,'wb'))"
      ],
      "metadata": {
        "id": "Iv-2psjQCI21"
      },
      "execution_count": null,
      "outputs": []
    }
  ]
}